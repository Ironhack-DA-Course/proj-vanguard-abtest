{
 "cells": [
  {
   "cell_type": "code",
   "execution_count": 66,
   "metadata": {},
   "outputs": [],
   "source": [
    "import pandas as pd\n",
    "import matplotlib.pyplot as plt\n",
    "import seaborn as sns\n",
    "import numpy as np\n",
    "import yaml\n",
    "%matplotlib inline\n",
    "\n",
    "try:\n",
    "    with open(\"../config.yaml\", \"r\") as file:\n",
    "        config = yaml.safe_load(file)\n",
    "except:\n",
    "    print(\"Yaml configuration file not found!\")"
   ]
  },
  {
   "cell_type": "markdown",
   "metadata": {},
   "source": [
    "2. Loading Data"
   ]
  },
  {
   "cell_type": "code",
   "execution_count": 63,
   "metadata": {},
   "outputs": [
    {
     "data": {
      "text/plain": [
       "{'data': {'raw': {'file_client_profile': '../data/raw/df_final_demo.txt',\n",
       "   'file_experiment_clients': '../data/raw/df_final_experiment_clients.txt',\n",
       "   'file_web1': '../data/raw/df_final_web_data_pt_1.txt',\n",
       "   'file_web2': '../data/raw/df_final_web_data_pt_2.txt',\n",
       "   'file_footprints': '../data/raw/df_footprints.csv',\n",
       "   'file_demo_experiment': '../data/raw/df_final_demo_concat.csv'},\n",
       "  'clean': {'file': '../data/clean/cleaned.csv',\n",
       "   'footprint_final_client_experiment_Cleaned': '../data/clean/final_client_experiment_Cleaned.csv',\n",
       "   'file_demo_experiment_cleaned': '../data/clean/df_final_demo_concat_cleaned.csv',\n",
       "   'file_transform': '../data/clean/df_footprints_transformed.csv'}}}"
      ]
     },
     "execution_count": 63,
     "metadata": {},
     "output_type": "execute_result"
    }
   ],
   "source": [
    "config\n",
    "#['data']['clean']['file_demo_experiment_cleaned']"
   ]
  },
  {
   "cell_type": "code",
   "execution_count": 4,
   "metadata": {},
   "outputs": [
    {
     "name": "stderr",
     "output_type": "stream",
     "text": [
      "C:\\Users\\Gast\\AppData\\Local\\Temp\\ipykernel_16568\\325902528.py:5: DtypeWarning: Columns (10) have mixed types. Specify dtype option on import or set low_memory=False.\n",
      "  df_client_experiment = pd.read_csv(config['data']['raw']['file_demo_experiment'])\n"
     ]
    }
   ],
   "source": [
    "df_client = pd.read_csv(config['data']['raw']['file_client_profile'])\n",
    "df_experiment = pd.read_csv(config['data']['raw']['file_experiment_clients'])\n",
    "df_web1 = pd.read_csv(config['data']['raw']['file_web1'])\n",
    "df_web2 = pd.read_csv(config['data']['raw']['file_web2'])\n",
    "df_client_experiment = pd.read_csv(config['data']['raw']['file_demo_experiment'])"
   ]
  },
  {
   "cell_type": "code",
   "execution_count": 4,
   "metadata": {},
   "outputs": [
    {
     "data": {
      "application/vnd.microsoft.datawrangler.viewer.v0+json": {
       "columns": [
        {
         "name": "index",
         "rawType": "int64",
         "type": "integer"
        },
        {
         "name": "client_id",
         "rawType": "int64",
         "type": "integer"
        },
        {
         "name": "visitor_id",
         "rawType": "object",
         "type": "string"
        },
        {
         "name": "visit_id",
         "rawType": "object",
         "type": "string"
        },
        {
         "name": "process_step",
         "rawType": "object",
         "type": "string"
        },
        {
         "name": "date_time",
         "rawType": "object",
         "type": "string"
        }
       ],
       "ref": "97dca807-1448-47c3-aeb8-5291df2b8e4b",
       "rows": [
        [
         "0",
         "9988021",
         "580560515_7732621733",
         "781255054_21935453173_531117",
         "step_3",
         "2017-04-17 15:27:07"
        ],
        [
         "1",
         "9988021",
         "580560515_7732621733",
         "781255054_21935453173_531117",
         "step_2",
         "2017-04-17 15:26:51"
        ],
        [
         "2",
         "9988021",
         "580560515_7732621733",
         "781255054_21935453173_531117",
         "step_3",
         "2017-04-17 15:19:22"
        ],
        [
         "3",
         "9988021",
         "580560515_7732621733",
         "781255054_21935453173_531117",
         "step_2",
         "2017-04-17 15:19:13"
        ],
        [
         "4",
         "9988021",
         "580560515_7732621733",
         "781255054_21935453173_531117",
         "step_3",
         "2017-04-17 15:18:04"
        ],
        [
         "5",
         "9988021",
         "580560515_7732621733",
         "781255054_21935453173_531117",
         "step_2",
         "2017-04-17 15:17:15"
        ],
        [
         "6",
         "9988021",
         "580560515_7732621733",
         "781255054_21935453173_531117",
         "step_1",
         "2017-04-17 15:17:01"
        ],
        [
         "7",
         "9988021",
         "580560515_7732621733",
         "781255054_21935453173_531117",
         "start",
         "2017-04-17 15:16:22"
        ],
        [
         "8",
         "8320017",
         "39393514_33118319366",
         "960651974_70596002104_312201",
         "confirm",
         "2017-04-05 13:10:05"
        ],
        [
         "9",
         "8320017",
         "39393514_33118319366",
         "960651974_70596002104_312201",
         "step_3",
         "2017-04-05 13:09:43"
        ],
        [
         "10",
         "8320017",
         "39393514_33118319366",
         "960651974_70596002104_312201",
         "step_2",
         "2017-04-05 13:08:40"
        ],
        [
         "11",
         "8320017",
         "39393514_33118319366",
         "960651974_70596002104_312201",
         "step_1",
         "2017-04-05 13:08:24"
        ],
        [
         "12",
         "8320017",
         "39393514_33118319366",
         "960651974_70596002104_312201",
         "start",
         "2017-04-05 13:08:06"
        ],
        [
         "13",
         "4033851",
         "762728880_76361333336",
         "949661017_22392791362_127391",
         "confirm",
         "2017-04-05 12:29:03"
        ],
        [
         "14",
         "4033851",
         "762728880_76361333336",
         "949661017_22392791362_127391",
         "confirm",
         "2017-04-05 12:29:01"
        ],
        [
         "15",
         "4033851",
         "762728880_76361333336",
         "949661017_22392791362_127391",
         "confirm",
         "2017-04-05 12:28:52"
        ],
        [
         "16",
         "4033851",
         "762728880_76361333336",
         "949661017_22392791362_127391",
         "step_3",
         "2017-04-05 12:26:08"
        ],
        [
         "17",
         "4033851",
         "762728880_76361333336",
         "949661017_22392791362_127391",
         "step_2",
         "2017-04-05 12:24:43"
        ],
        [
         "18",
         "4033851",
         "762728880_76361333336",
         "949661017_22392791362_127391",
         "step_1",
         "2017-04-05 12:24:12"
        ],
        [
         "19",
         "4033851",
         "762728880_76361333336",
         "949661017_22392791362_127391",
         "start",
         "2017-04-05 12:24:04"
        ],
        [
         "20",
         "4033851",
         "762728880_76361333336",
         "949661017_22392791362_127391",
         "step_2",
         "2017-04-05 12:10:26"
        ],
        [
         "21",
         "4033851",
         "762728880_76361333336",
         "949661017_22392791362_127391",
         "step_3",
         "2017-04-05 12:10:26"
        ],
        [
         "22",
         "4033851",
         "762728880_76361333336",
         "949661017_22392791362_127391",
         "step_2",
         "2017-04-05 12:10:25"
        ],
        [
         "23",
         "4033851",
         "762728880_76361333336",
         "949661017_22392791362_127391",
         "step_3",
         "2017-04-05 12:10:25"
        ],
        [
         "24",
         "1982004",
         "618934751_10082078917",
         "132494692_73738638511_70823",
         "confirm",
         "2017-04-17 12:02:42"
        ],
        [
         "25",
         "1982004",
         "618934751_10082078917",
         "132494692_73738638511_70823",
         "step_3",
         "2017-04-17 12:01:09"
        ],
        [
         "26",
         "1982004",
         "618934751_10082078917",
         "132494692_73738638511_70823",
         "step_2",
         "2017-04-17 12:00:01"
        ],
        [
         "27",
         "1982004",
         "618934751_10082078917",
         "132494692_73738638511_70823",
         "step_1",
         "2017-04-17 11:59:46"
        ],
        [
         "28",
         "1982004",
         "618934751_10082078917",
         "132494692_73738638511_70823",
         "start",
         "2017-04-17 11:59:42"
        ],
        [
         "29",
         "9294070",
         "489274391_63794562906",
         "116640698_27328181095_188045",
         "start",
         "2017-04-17 11:16:28"
        ],
        [
         "30",
         "9294070",
         "489274391_63794562906",
         "116640698_27328181095_188045",
         "start",
         "2017-04-17 11:16:13"
        ],
        [
         "31",
         "9466803",
         "97277031_5793723360",
         "812185460_4263902139_352107",
         "start",
         "2017-04-16 13:24:45"
        ],
        [
         "32",
         "9466803",
         "97277031_5793723360",
         "812185460_4263902139_352107",
         "step_2",
         "2017-04-16 13:24:16"
        ],
        [
         "33",
         "9466803",
         "97277031_5793723360",
         "812185460_4263902139_352107",
         "step_1",
         "2017-04-16 13:24:07"
        ],
        [
         "34",
         "9466803",
         "97277031_5793723360",
         "812185460_4263902139_352107",
         "start",
         "2017-04-16 13:24:05"
        ],
        [
         "35",
         "9466803",
         "97277031_5793723360",
         "812185460_4263902139_352107",
         "step_1",
         "2017-04-16 13:21:58"
        ],
        [
         "36",
         "9466803",
         "97277031_5793723360",
         "812185460_4263902139_352107",
         "start",
         "2017-04-16 13:21:51"
        ],
        [
         "37",
         "3170143",
         "837774974_91015515080",
         "758001412_25057963943_219559",
         "confirm",
         "2017-04-04 18:41:44"
        ],
        [
         "38",
         "3170143",
         "837774974_91015515080",
         "758001412_25057963943_219559",
         "step_3",
         "2017-04-04 18:41:03"
        ],
        [
         "39",
         "3170143",
         "837774974_91015515080",
         "758001412_25057963943_219559",
         "step_2",
         "2017-04-04 18:38:22"
        ],
        [
         "40",
         "3170143",
         "837774974_91015515080",
         "758001412_25057963943_219559",
         "step_1",
         "2017-04-04 18:38:14"
        ],
        [
         "41",
         "3170143",
         "837774974_91015515080",
         "758001412_25057963943_219559",
         "start",
         "2017-04-04 18:38:02"
        ],
        [
         "42",
         "6651403",
         "387438258_49845138949",
         "754106292_61370647593_160929",
         "confirm",
         "2017-04-04 17:38:39"
        ],
        [
         "43",
         "6651403",
         "387438258_49845138949",
         "754106292_61370647593_160929",
         "step_3",
         "2017-04-04 17:34:03"
        ],
        [
         "44",
         "6651403",
         "387438258_49845138949",
         "754106292_61370647593_160929",
         "step_2",
         "2017-04-04 17:33:55"
        ],
        [
         "45",
         "6651403",
         "387438258_49845138949",
         "754106292_61370647593_160929",
         "step_3",
         "2017-04-04 17:31:32"
        ],
        [
         "46",
         "6651403",
         "387438258_49845138949",
         "754106292_61370647593_160929",
         "step_2",
         "2017-04-04 17:28:44"
        ],
        [
         "47",
         "6651403",
         "387438258_49845138949",
         "754106292_61370647593_160929",
         "step_1",
         "2017-04-04 17:28:35"
        ],
        [
         "48",
         "6651403",
         "387438258_49845138949",
         "754106292_61370647593_160929",
         "start",
         "2017-04-04 17:28:18"
        ],
        [
         "49",
         "5887227",
         "448202785_26003228044",
         "458489157_53226123692_778999",
         "confirm",
         "2017-04-05 14:52:34"
        ]
       ],
       "shape": {
        "columns": 5,
        "rows": 755405
       }
      },
      "text/html": [
       "<div>\n",
       "<style scoped>\n",
       "    .dataframe tbody tr th:only-of-type {\n",
       "        vertical-align: middle;\n",
       "    }\n",
       "\n",
       "    .dataframe tbody tr th {\n",
       "        vertical-align: top;\n",
       "    }\n",
       "\n",
       "    .dataframe thead th {\n",
       "        text-align: right;\n",
       "    }\n",
       "</style>\n",
       "<table border=\"1\" class=\"dataframe\">\n",
       "  <thead>\n",
       "    <tr style=\"text-align: right;\">\n",
       "      <th></th>\n",
       "      <th>client_id</th>\n",
       "      <th>visitor_id</th>\n",
       "      <th>visit_id</th>\n",
       "      <th>process_step</th>\n",
       "      <th>date_time</th>\n",
       "    </tr>\n",
       "  </thead>\n",
       "  <tbody>\n",
       "    <tr>\n",
       "      <th>0</th>\n",
       "      <td>9988021</td>\n",
       "      <td>580560515_7732621733</td>\n",
       "      <td>781255054_21935453173_531117</td>\n",
       "      <td>step_3</td>\n",
       "      <td>2017-04-17 15:27:07</td>\n",
       "    </tr>\n",
       "    <tr>\n",
       "      <th>1</th>\n",
       "      <td>9988021</td>\n",
       "      <td>580560515_7732621733</td>\n",
       "      <td>781255054_21935453173_531117</td>\n",
       "      <td>step_2</td>\n",
       "      <td>2017-04-17 15:26:51</td>\n",
       "    </tr>\n",
       "    <tr>\n",
       "      <th>2</th>\n",
       "      <td>9988021</td>\n",
       "      <td>580560515_7732621733</td>\n",
       "      <td>781255054_21935453173_531117</td>\n",
       "      <td>step_3</td>\n",
       "      <td>2017-04-17 15:19:22</td>\n",
       "    </tr>\n",
       "    <tr>\n",
       "      <th>3</th>\n",
       "      <td>9988021</td>\n",
       "      <td>580560515_7732621733</td>\n",
       "      <td>781255054_21935453173_531117</td>\n",
       "      <td>step_2</td>\n",
       "      <td>2017-04-17 15:19:13</td>\n",
       "    </tr>\n",
       "    <tr>\n",
       "      <th>4</th>\n",
       "      <td>9988021</td>\n",
       "      <td>580560515_7732621733</td>\n",
       "      <td>781255054_21935453173_531117</td>\n",
       "      <td>step_3</td>\n",
       "      <td>2017-04-17 15:18:04</td>\n",
       "    </tr>\n",
       "    <tr>\n",
       "      <th>...</th>\n",
       "      <td>...</td>\n",
       "      <td>...</td>\n",
       "      <td>...</td>\n",
       "      <td>...</td>\n",
       "      <td>...</td>\n",
       "    </tr>\n",
       "    <tr>\n",
       "      <th>412259</th>\n",
       "      <td>9668240</td>\n",
       "      <td>388766751_9038881013</td>\n",
       "      <td>922267647_3096648104_968866</td>\n",
       "      <td>start</td>\n",
       "      <td>2017-05-24 18:46:10</td>\n",
       "    </tr>\n",
       "    <tr>\n",
       "      <th>412260</th>\n",
       "      <td>9668240</td>\n",
       "      <td>388766751_9038881013</td>\n",
       "      <td>922267647_3096648104_968866</td>\n",
       "      <td>start</td>\n",
       "      <td>2017-05-24 18:45:29</td>\n",
       "    </tr>\n",
       "    <tr>\n",
       "      <th>412261</th>\n",
       "      <td>9668240</td>\n",
       "      <td>388766751_9038881013</td>\n",
       "      <td>922267647_3096648104_968866</td>\n",
       "      <td>step_1</td>\n",
       "      <td>2017-05-24 18:44:51</td>\n",
       "    </tr>\n",
       "    <tr>\n",
       "      <th>412262</th>\n",
       "      <td>9668240</td>\n",
       "      <td>388766751_9038881013</td>\n",
       "      <td>922267647_3096648104_968866</td>\n",
       "      <td>start</td>\n",
       "      <td>2017-05-24 18:44:34</td>\n",
       "    </tr>\n",
       "    <tr>\n",
       "      <th>412263</th>\n",
       "      <td>674799</td>\n",
       "      <td>947159805_81558194550</td>\n",
       "      <td>86152093_47511127657_716022</td>\n",
       "      <td>start</td>\n",
       "      <td>2017-06-03 12:17:09</td>\n",
       "    </tr>\n",
       "  </tbody>\n",
       "</table>\n",
       "<p>755405 rows × 5 columns</p>\n",
       "</div>"
      ],
      "text/plain": [
       "        client_id             visitor_id                      visit_id  \\\n",
       "0         9988021   580560515_7732621733  781255054_21935453173_531117   \n",
       "1         9988021   580560515_7732621733  781255054_21935453173_531117   \n",
       "2         9988021   580560515_7732621733  781255054_21935453173_531117   \n",
       "3         9988021   580560515_7732621733  781255054_21935453173_531117   \n",
       "4         9988021   580560515_7732621733  781255054_21935453173_531117   \n",
       "...           ...                    ...                           ...   \n",
       "412259    9668240   388766751_9038881013   922267647_3096648104_968866   \n",
       "412260    9668240   388766751_9038881013   922267647_3096648104_968866   \n",
       "412261    9668240   388766751_9038881013   922267647_3096648104_968866   \n",
       "412262    9668240   388766751_9038881013   922267647_3096648104_968866   \n",
       "412263     674799  947159805_81558194550   86152093_47511127657_716022   \n",
       "\n",
       "       process_step            date_time  \n",
       "0            step_3  2017-04-17 15:27:07  \n",
       "1            step_2  2017-04-17 15:26:51  \n",
       "2            step_3  2017-04-17 15:19:22  \n",
       "3            step_2  2017-04-17 15:19:13  \n",
       "4            step_3  2017-04-17 15:18:04  \n",
       "...             ...                  ...  \n",
       "412259        start  2017-05-24 18:46:10  \n",
       "412260        start  2017-05-24 18:45:29  \n",
       "412261       step_1  2017-05-24 18:44:51  \n",
       "412262        start  2017-05-24 18:44:34  \n",
       "412263        start  2017-06-03 12:17:09  \n",
       "\n",
       "[755405 rows x 5 columns]"
      ]
     },
     "execution_count": 4,
     "metadata": {},
     "output_type": "execute_result"
    }
   ],
   "source": [
    "df_footprints = pd.concat([df_web1, df_web2])\n",
    "df_footprints.to_csv(config['data']['raw']['file_footprints'])\n",
    "df_footprints"
   ]
  },
  {
   "cell_type": "markdown",
   "metadata": {},
   "source": [
    "3. Generic EDA"
   ]
  },
  {
   "cell_type": "code",
   "execution_count": null,
   "metadata": {},
   "outputs": [],
   "source": [
    "df_client.info()"
   ]
  },
  {
   "cell_type": "code",
   "execution_count": null,
   "metadata": {},
   "outputs": [],
   "source": [
    "df_client.head()\n",
    "# df_client.isna().sum()\n",
    "# df_client[\"gendr\"].unique()\n",
    "# df_client[\"bal\"].min()\n",
    "# df_client[\"bal\"].max()\n"
   ]
  },
  {
   "cell_type": "code",
   "execution_count": null,
   "metadata": {},
   "outputs": [],
   "source": [
    "df_client[\"calls_6_mnth\"].unique()\n"
   ]
  },
  {
   "cell_type": "code",
   "execution_count": null,
   "metadata": {},
   "outputs": [],
   "source": [
    "# df_client[\"num_accts\"] =df_client[\"num_accts\"].astype(int)"
   ]
  },
  {
   "cell_type": "code",
   "execution_count": null,
   "metadata": {},
   "outputs": [],
   "source": [
    "df_experiment.head()"
   ]
  },
  {
   "cell_type": "code",
   "execution_count": null,
   "metadata": {},
   "outputs": [],
   "source": [
    "df_experiment[\"Variation\"].value_counts()\n",
    "# df_experiment.dtypes\n",
    "# df_experiment.isna().sum()"
   ]
  },
  {
   "cell_type": "code",
   "execution_count": null,
   "metadata": {},
   "outputs": [],
   "source": [
    "df_footprints.info()\n",
    "df_footprints.head()"
   ]
  },
  {
   "cell_type": "code",
   "execution_count": null,
   "metadata": {},
   "outputs": [],
   "source": [
    "df_footprints[\"visitor_id\"].nunique()"
   ]
  },
  {
   "cell_type": "code",
   "execution_count": null,
   "metadata": {},
   "outputs": [],
   "source": [
    "# df_web1.head()\n",
    "df_web1.info()\n",
    "df_web1.duplicated().sum()"
   ]
  },
  {
   "cell_type": "code",
   "execution_count": null,
   "metadata": {},
   "outputs": [],
   "source": [
    "# df_web2.head()\n",
    "df_web2.info()\n",
    "df_web2.duplicated().sum()"
   ]
  },
  {
   "cell_type": "code",
   "execution_count": null,
   "metadata": {},
   "outputs": [],
   "source": [
    "# df_footprints[\"process_step\"].unique()\n",
    "# df_footprints[\"client_id\"].value_counts()\n",
    "# df_footprints[\"process_step\"].unique()\n",
    "df_footprints.isna().sum()"
   ]
  },
  {
   "cell_type": "markdown",
   "metadata": {},
   "source": [
    "3a. df_client"
   ]
  },
  {
   "cell_type": "code",
   "execution_count": null,
   "metadata": {},
   "outputs": [],
   "source": [
    "# df_client.info()\n",
    "df_client.head()"
   ]
  },
  {
   "cell_type": "code",
   "execution_count": null,
   "metadata": {},
   "outputs": [],
   "source": [
    "df_client_experiment.info()\n",
    "df_client_experiment.head()\n"
   ]
  },
  {
   "cell_type": "code",
   "execution_count": null,
   "metadata": {},
   "outputs": [],
   "source": [
    "Active = ['Test', 'Control']\n",
    "test = df_client_experiment[df_client_experiment['variation'].isin(Active)]\n",
    "test['clnt_age'].describe()"
   ]
  },
  {
   "cell_type": "code",
   "execution_count": null,
   "metadata": {},
   "outputs": [],
   "source": [
    "test.head()"
   ]
  },
  {
   "cell_type": "code",
   "execution_count": null,
   "metadata": {},
   "outputs": [],
   "source": [
    "test['clnt_tenure_yr'].describe()"
   ]
  },
  {
   "cell_type": "code",
   "execution_count": null,
   "metadata": {},
   "outputs": [],
   "source": [
    "# sns.histplot(data=test,x=test[\"clnt_age\"],y=test[\"\"], )\n",
    "sns.histplot(data=test[\"clnt_age\"], kde=False, bins=10, color=\"salmon\");"
   ]
  },
  {
   "cell_type": "code",
   "execution_count": null,
   "metadata": {},
   "outputs": [],
   "source": [
    "sns.histplot(data=test[\"clnt_tenure_yr\"], kde=False, bins=20, color=\"salmon\");"
   ]
  },
  {
   "cell_type": "code",
   "execution_count": null,
   "metadata": {},
   "outputs": [],
   "source": [
    "test[\"clnt_age\"].value_counts().sort_values(ascending = False)"
   ]
  },
  {
   "cell_type": "code",
   "execution_count": null,
   "metadata": {},
   "outputs": [],
   "source": [
    "test[test[\"clnt_age\"]>35]"
   ]
  },
  {
   "cell_type": "code",
   "execution_count": null,
   "metadata": {},
   "outputs": [],
   "source": [
    "df_client.select_dtypes(\"number\").nunique().sort_values(ascending=False)"
   ]
  },
  {
   "cell_type": "code",
   "execution_count": null,
   "metadata": {},
   "outputs": [],
   "source": [
    "df_client.select_dtypes(\"object\").nunique().sort_values(ascending=False)"
   ]
  },
  {
   "cell_type": "code",
   "execution_count": null,
   "metadata": {},
   "outputs": [],
   "source": [
    "potential_categorical_from_numerical = df_client.select_dtypes(\"number\").loc[:, df_client.select_dtypes(\"number\").nunique() < 20]\n",
    "potential_categorical_from_numerical"
   ]
  },
  {
   "cell_type": "code",
   "execution_count": null,
   "metadata": {},
   "outputs": [],
   "source": [
    "df_client[\"gendr\"].value_counts()\n",
    "# df_client.isna().sum()"
   ]
  },
  {
   "cell_type": "code",
   "execution_count": null,
   "metadata": {},
   "outputs": [],
   "source": [
    "df_client[\"clnt_tenure_yr\"].value_counts().sort_index(ascending=True)#.tail()\n",
    "min_clnt_tenure_yr = df_client[\"clnt_tenure_yr\"].min()\n",
    "max_clnt_tenure_yr = df_client[\"clnt_tenure_yr\"].max()\n",
    "avg_clnt_tenure_yr = df_client[\"clnt_tenure_yr\"].mean()\n",
    "min_clnt_tenure_yr, max_clnt_tenure_yr"
   ]
  },
  {
   "cell_type": "code",
   "execution_count": null,
   "metadata": {},
   "outputs": [],
   "source": [
    "df_client[\"clnt_tenure_mnth\"].value_counts().sort_index(ascending=True)#.tail()"
   ]
  },
  {
   "cell_type": "code",
   "execution_count": null,
   "metadata": {},
   "outputs": [],
   "source": [
    "df_client[\"clnt_age\"].value_counts().sort_index(ascending=True)#.tail()"
   ]
  },
  {
   "cell_type": "markdown",
   "metadata": {},
   "source": [
    "4. Clean"
   ]
  },
  {
   "cell_type": "code",
   "execution_count": null,
   "metadata": {},
   "outputs": [],
   "source": [
    "# \n",
    "# df_client_experiment.isna().sum()\n",
    "# df1_demo.shape"
   ]
  },
  {
   "cell_type": "code",
   "execution_count": 5,
   "metadata": {},
   "outputs": [
    {
     "data": {
      "text/plain": [
       "Index(['client_id', 'client_tenure_year', 'client_tenure_month', 'client_age',\n",
       "       'gender', 'num_accts', 'balance', 'calls_6_mnth', 'logons_6_mnth',\n",
       "       'variation'],\n",
       "      dtype='object')"
      ]
     },
     "execution_count": 5,
     "metadata": {},
     "output_type": "execute_result"
    }
   ],
   "source": [
    "# Clean/rename columns\n",
    "df_client_experiment = df_client_experiment.rename(columns = {\"clnt_tenure_yr\": \"client_tenure_year\", \"clnt_tenure_mnth\": \"client_tenure_month\", \"clnt_age\" : \"client_age\", \"gendr\": \"gender\", \"bal\": \"balance\",\"Variation\": \"treatment_group\"}).drop(columns = \"Unnamed: 0\")\n",
    "df_client_experiment.columns"
   ]
  },
  {
   "cell_type": "code",
   "execution_count": null,
   "metadata": {},
   "outputs": [],
   "source": [
    "# df_client_experiment.drop(\"Unnamed:\\ 0\")"
   ]
  },
  {
   "cell_type": "code",
   "execution_count": null,
   "metadata": {},
   "outputs": [],
   "source": [
    "# df_client_experiment[\"client_tenure_year\"].unique()"
   ]
  },
  {
   "cell_type": "code",
   "execution_count": null,
   "metadata": {},
   "outputs": [],
   "source": [
    "# df_client_experiment[df_client_experiment[\"client_tenure_month\"].isna()]\n",
    "# df_client_experiment.shape"
   ]
  },
  {
   "cell_type": "code",
   "execution_count": 6,
   "metadata": {},
   "outputs": [
    {
     "data": {
      "text/plain": [
       "(70595, 10)"
      ]
     },
     "execution_count": 6,
     "metadata": {},
     "output_type": "execute_result"
    }
   ],
   "source": [
    "#Drop  row, when values in subset are null\n",
    "df_client_experiment = df_client_experiment.dropna(subset = [\"client_tenure_year\", \"client_tenure_month\", \"client_age\"], how = \"all\" )\n",
    "df_client_experiment.shape"
   ]
  },
  {
   "cell_type": "code",
   "execution_count": null,
   "metadata": {},
   "outputs": [],
   "source": [
    "# df_client_experiment.tail()"
   ]
  },
  {
   "cell_type": "code",
   "execution_count": null,
   "metadata": {},
   "outputs": [],
   "source": [
    "# df_client_experiment.isna().sum()"
   ]
  },
  {
   "cell_type": "code",
   "execution_count": null,
   "metadata": {},
   "outputs": [],
   "source": [
    "# df_client_experiment.info()"
   ]
  },
  {
   "cell_type": "code",
   "execution_count": 7,
   "metadata": {},
   "outputs": [
    {
     "name": "stdout",
     "output_type": "stream",
     "text": [
      "<class 'pandas.core.frame.DataFrame'>\n",
      "Index: 50488 entries, 0 to 50499\n",
      "Data columns (total 10 columns):\n",
      " #   Column               Non-Null Count  Dtype  \n",
      "---  ------               --------------  -----  \n",
      " 0   client_id            50488 non-null  int64  \n",
      " 1   client_tenure_year   50488 non-null  float64\n",
      " 2   client_tenure_month  50488 non-null  float64\n",
      " 3   client_age           50487 non-null  float64\n",
      " 4   gender               50488 non-null  object \n",
      " 5   num_accts            50488 non-null  float64\n",
      " 6   balance              50488 non-null  float64\n",
      " 7   calls_6_mnth         50488 non-null  float64\n",
      " 8   logons_6_mnth        50488 non-null  float64\n",
      " 9   variation            50488 non-null  object \n",
      "dtypes: float64(7), int64(1), object(2)\n",
      "memory usage: 4.2+ MB\n"
     ]
    }
   ],
   "source": [
    "df_client_experiment = df_client_experiment.dropna(subset = \"variation\")\n",
    "df_client_experiment.info()"
   ]
  },
  {
   "cell_type": "code",
   "execution_count": 8,
   "metadata": {},
   "outputs": [
    {
     "data": {
      "application/vnd.microsoft.datawrangler.viewer.v0+json": {
       "columns": [
        {
         "name": "index",
         "rawType": "object",
         "type": "string"
        },
        {
         "name": "0",
         "rawType": "int64",
         "type": "integer"
        }
       ],
       "ref": "56b25abd-3b71-4c59-b3f5-38c91a03a955",
       "rows": [
        [
         "client_id",
         "0"
        ],
        [
         "client_tenure_year",
         "0"
        ],
        [
         "client_tenure_month",
         "0"
        ],
        [
         "client_age",
         "0"
        ],
        [
         "gender",
         "0"
        ],
        [
         "num_accts",
         "0"
        ],
        [
         "balance",
         "0"
        ],
        [
         "calls_6_mnth",
         "0"
        ],
        [
         "logons_6_mnth",
         "0"
        ],
        [
         "variation",
         "0"
        ]
       ],
       "shape": {
        "columns": 1,
        "rows": 10
       }
      },
      "text/plain": [
       "client_id              0\n",
       "client_tenure_year     0\n",
       "client_tenure_month    0\n",
       "client_age             0\n",
       "gender                 0\n",
       "num_accts              0\n",
       "balance                0\n",
       "calls_6_mnth           0\n",
       "logons_6_mnth          0\n",
       "variation              0\n",
       "dtype: int64"
      ]
     },
     "execution_count": 8,
     "metadata": {},
     "output_type": "execute_result"
    }
   ],
   "source": [
    "df_client_experiment[\"client_age\"] = df_client_experiment[\"client_age\"].fillna(df_client_experiment[\"client_age\"].mean())\n",
    "df_client_experiment.isna().sum()"
   ]
  },
  {
   "cell_type": "code",
   "execution_count": 9,
   "metadata": {},
   "outputs": [
    {
     "data": {
      "text/plain": [
       "array(['U', 'M', 'F'], dtype=object)"
      ]
     },
     "execution_count": 9,
     "metadata": {},
     "output_type": "execute_result"
    }
   ],
   "source": [
    "def clean_gdr(x):\n",
    "    gender = str(x)\n",
    "    if gender == \"X\": \n",
    "        return \"U\"\n",
    "    else:\n",
    "        return x\n",
    "    \n",
    "df_client_experiment[\"gender\"] = df_client_experiment[\"gender\"].fillna(\"U\")\n",
    "# df_client[\"gendr\"] = df_client[\"gendr\"].apply(lambda x:\"U\" if x == \"X\" else x for x in df_client[\"gendr\"])\n",
    "df_client_experiment[\"gender\"] = df_client_experiment[\"gender\"].str.strip().apply(clean_gdr)\n",
    "df_client_experiment[\"gender\"].unique() "
   ]
  },
  {
   "cell_type": "code",
   "execution_count": null,
   "metadata": {},
   "outputs": [],
   "source": [
    "# df_client_experiment.info()"
   ]
  },
  {
   "cell_type": "code",
   "execution_count": 10,
   "metadata": {},
   "outputs": [
    {
     "name": "stdout",
     "output_type": "stream",
     "text": [
      "<class 'pandas.core.frame.DataFrame'>\n",
      "Index: 50488 entries, 0 to 50499\n",
      "Data columns (total 10 columns):\n",
      " #   Column               Non-Null Count  Dtype  \n",
      "---  ------               --------------  -----  \n",
      " 0   client_id            50488 non-null  int64  \n",
      " 1   client_tenure_year   50488 non-null  int64  \n",
      " 2   client_tenure_month  50488 non-null  int64  \n",
      " 3   client_age           50488 non-null  int64  \n",
      " 4   gender               50488 non-null  object \n",
      " 5   num_accts            50488 non-null  int64  \n",
      " 6   balance              50488 non-null  float64\n",
      " 7   calls_6_mnth         50488 non-null  int64  \n",
      " 8   logons_6_mnth        50488 non-null  int64  \n",
      " 9   variation            50488 non-null  object \n",
      "dtypes: float64(1), int64(7), object(2)\n",
      "memory usage: 4.2+ MB\n"
     ]
    }
   ],
   "source": [
    "for col in [\"client_tenure_year\",\"client_tenure_month\", \"client_age\", \"num_accts\",\"calls_6_mnth\", \"logons_6_mnth\"]:\n",
    "    df_client_experiment[col] = df_client_experiment[col].astype(\"int64\")\n",
    "df_client_experiment.info()"
   ]
  },
  {
   "cell_type": "code",
   "execution_count": null,
   "metadata": {},
   "outputs": [],
   "source": [
    "# df_client_experiment"
   ]
  },
  {
   "cell_type": "code",
   "execution_count": 11,
   "metadata": {},
   "outputs": [],
   "source": [
    "df_client_experiment.to_csv(config['data']['clean']['file_demo_experiment_cleaned'],sep=\",\", index= False)"
   ]
  },
  {
   "cell_type": "code",
   "execution_count": 15,
   "metadata": {},
   "outputs": [
    {
     "data": {
      "application/vnd.microsoft.datawrangler.viewer.v0+json": {
       "columns": [
        {
         "name": "index",
         "rawType": "int64",
         "type": "integer"
        },
        {
         "name": "client_id",
         "rawType": "int64",
         "type": "integer"
        },
        {
         "name": "client_tenure_year",
         "rawType": "int64",
         "type": "integer"
        },
        {
         "name": "client_tenure_month",
         "rawType": "int64",
         "type": "integer"
        },
        {
         "name": "client_age",
         "rawType": "int64",
         "type": "integer"
        },
        {
         "name": "gender",
         "rawType": "object",
         "type": "string"
        },
        {
         "name": "num_accts",
         "rawType": "int64",
         "type": "integer"
        },
        {
         "name": "balance",
         "rawType": "float64",
         "type": "float"
        },
        {
         "name": "calls_6_mnth",
         "rawType": "int64",
         "type": "integer"
        },
        {
         "name": "logons_6_mnth",
         "rawType": "int64",
         "type": "integer"
        },
        {
         "name": "variation",
         "rawType": "object",
         "type": "string"
        }
       ],
       "ref": "47906181-0dbf-4a84-be98-be9f4e121ffa",
       "rows": [
        [
         "0",
         "836976",
         "6",
         "73",
         "60",
         "U",
         "2",
         "45105.3",
         "6",
         "9",
         "Test"
        ],
        [
         "1",
         "2304905",
         "7",
         "94",
         "58",
         "U",
         "2",
         "110860.3",
         "6",
         "9",
         "Control"
        ],
        [
         "2",
         "1439522",
         "5",
         "64",
         "32",
         "U",
         "2",
         "52467.78999999999",
         "6",
         "9",
         "Test"
        ],
        [
         "3",
         "1562045",
         "16",
         "198",
         "49",
         "M",
         "2",
         "67454.65",
         "3",
         "6",
         "Test"
        ],
        [
         "4",
         "5126305",
         "12",
         "145",
         "33",
         "F",
         "2",
         "103671.75",
         "0",
         "3",
         "Control"
        ]
       ],
       "shape": {
        "columns": 10,
        "rows": 5
       }
      },
      "text/html": [
       "<div>\n",
       "<style scoped>\n",
       "    .dataframe tbody tr th:only-of-type {\n",
       "        vertical-align: middle;\n",
       "    }\n",
       "\n",
       "    .dataframe tbody tr th {\n",
       "        vertical-align: top;\n",
       "    }\n",
       "\n",
       "    .dataframe thead th {\n",
       "        text-align: right;\n",
       "    }\n",
       "</style>\n",
       "<table border=\"1\" class=\"dataframe\">\n",
       "  <thead>\n",
       "    <tr style=\"text-align: right;\">\n",
       "      <th></th>\n",
       "      <th>client_id</th>\n",
       "      <th>client_tenure_year</th>\n",
       "      <th>client_tenure_month</th>\n",
       "      <th>client_age</th>\n",
       "      <th>gender</th>\n",
       "      <th>num_accts</th>\n",
       "      <th>balance</th>\n",
       "      <th>calls_6_mnth</th>\n",
       "      <th>logons_6_mnth</th>\n",
       "      <th>variation</th>\n",
       "    </tr>\n",
       "  </thead>\n",
       "  <tbody>\n",
       "    <tr>\n",
       "      <th>0</th>\n",
       "      <td>836976</td>\n",
       "      <td>6</td>\n",
       "      <td>73</td>\n",
       "      <td>60</td>\n",
       "      <td>U</td>\n",
       "      <td>2</td>\n",
       "      <td>45105.30</td>\n",
       "      <td>6</td>\n",
       "      <td>9</td>\n",
       "      <td>Test</td>\n",
       "    </tr>\n",
       "    <tr>\n",
       "      <th>1</th>\n",
       "      <td>2304905</td>\n",
       "      <td>7</td>\n",
       "      <td>94</td>\n",
       "      <td>58</td>\n",
       "      <td>U</td>\n",
       "      <td>2</td>\n",
       "      <td>110860.30</td>\n",
       "      <td>6</td>\n",
       "      <td>9</td>\n",
       "      <td>Control</td>\n",
       "    </tr>\n",
       "    <tr>\n",
       "      <th>2</th>\n",
       "      <td>1439522</td>\n",
       "      <td>5</td>\n",
       "      <td>64</td>\n",
       "      <td>32</td>\n",
       "      <td>U</td>\n",
       "      <td>2</td>\n",
       "      <td>52467.79</td>\n",
       "      <td>6</td>\n",
       "      <td>9</td>\n",
       "      <td>Test</td>\n",
       "    </tr>\n",
       "    <tr>\n",
       "      <th>3</th>\n",
       "      <td>1562045</td>\n",
       "      <td>16</td>\n",
       "      <td>198</td>\n",
       "      <td>49</td>\n",
       "      <td>M</td>\n",
       "      <td>2</td>\n",
       "      <td>67454.65</td>\n",
       "      <td>3</td>\n",
       "      <td>6</td>\n",
       "      <td>Test</td>\n",
       "    </tr>\n",
       "    <tr>\n",
       "      <th>4</th>\n",
       "      <td>5126305</td>\n",
       "      <td>12</td>\n",
       "      <td>145</td>\n",
       "      <td>33</td>\n",
       "      <td>F</td>\n",
       "      <td>2</td>\n",
       "      <td>103671.75</td>\n",
       "      <td>0</td>\n",
       "      <td>3</td>\n",
       "      <td>Control</td>\n",
       "    </tr>\n",
       "  </tbody>\n",
       "</table>\n",
       "</div>"
      ],
      "text/plain": [
       "   client_id  client_tenure_year  client_tenure_month  client_age gender  \\\n",
       "0     836976                   6                   73          60      U   \n",
       "1    2304905                   7                   94          58      U   \n",
       "2    1439522                   5                   64          32      U   \n",
       "3    1562045                  16                  198          49      M   \n",
       "4    5126305                  12                  145          33      F   \n",
       "\n",
       "   num_accts    balance  calls_6_mnth  logons_6_mnth variation  \n",
       "0          2   45105.30             6              9      Test  \n",
       "1          2  110860.30             6              9   Control  \n",
       "2          2   52467.79             6              9      Test  \n",
       "3          2   67454.65             3              6      Test  \n",
       "4          2  103671.75             0              3   Control  "
      ]
     },
     "execution_count": 15,
     "metadata": {},
     "output_type": "execute_result"
    }
   ],
   "source": [
    "df_client_experiment[\"num_accts\"].unique()\n",
    "df_client_experiment.head()"
   ]
  },
  {
   "cell_type": "markdown",
   "metadata": {},
   "source": [
    "5.Transform"
   ]
  },
  {
   "cell_type": "code",
   "execution_count": null,
   "metadata": {},
   "outputs": [
    {
     "data": {
      "application/vnd.microsoft.datawrangler.viewer.v0+json": {
       "columns": [
        {
         "name": "index",
         "rawType": "int64",
         "type": "integer"
        },
        {
         "name": "client_id",
         "rawType": "int64",
         "type": "integer"
        },
        {
         "name": "visitor_id",
         "rawType": "object",
         "type": "string"
        },
        {
         "name": "visit_id",
         "rawType": "object",
         "type": "string"
        },
        {
         "name": "process_step",
         "rawType": "object",
         "type": "string"
        },
        {
         "name": "date_time",
         "rawType": "object",
         "type": "string"
        },
        {
         "name": "treatment_group",
         "rawType": "object",
         "type": "string"
        }
       ],
       "ref": "4ec51af7-9c68-4d5a-b9d7-8654b53bb4f0",
       "rows": [
        [
         "317230",
         "1574008",
         "117364417_77840596075",
         "528720790_71583064618_169151",
         "start",
         "2017-05-06 23:43:27",
         "Test"
        ],
        [
         "317231",
         "2908510",
         "814969699_90652851448",
         "562606085_36368381773_92090",
         "start",
         "2017-05-10 22:57:17",
         "Control"
        ],
        [
         "317232",
         "2908510",
         "814969699_90652851448",
         "562606085_36368381773_92090",
         "step_2",
         "2017-05-10 22:56:31",
         "Control"
        ],
        [
         "317233",
         "2908510",
         "814969699_90652851448",
         "562606085_36368381773_92090",
         "step_1",
         "2017-05-10 22:56:23",
         "Control"
        ],
        [
         "317234",
         "2908510",
         "814969699_90652851448",
         "562606085_36368381773_92090",
         "start",
         "2017-05-10 22:56:20",
         "Control"
        ]
       ],
       "shape": {
        "columns": 6,
        "rows": 5
       }
      },
      "text/html": [
       "<div>\n",
       "<style scoped>\n",
       "    .dataframe tbody tr th:only-of-type {\n",
       "        vertical-align: middle;\n",
       "    }\n",
       "\n",
       "    .dataframe tbody tr th {\n",
       "        vertical-align: top;\n",
       "    }\n",
       "\n",
       "    .dataframe thead th {\n",
       "        text-align: right;\n",
       "    }\n",
       "</style>\n",
       "<table border=\"1\" class=\"dataframe\">\n",
       "  <thead>\n",
       "    <tr style=\"text-align: right;\">\n",
       "      <th></th>\n",
       "      <th>client_id</th>\n",
       "      <th>visitor_id</th>\n",
       "      <th>visit_id</th>\n",
       "      <th>process_step</th>\n",
       "      <th>date_time</th>\n",
       "      <th>treatment_group</th>\n",
       "    </tr>\n",
       "  </thead>\n",
       "  <tbody>\n",
       "    <tr>\n",
       "      <th>317230</th>\n",
       "      <td>1574008</td>\n",
       "      <td>117364417_77840596075</td>\n",
       "      <td>528720790_71583064618_169151</td>\n",
       "      <td>start</td>\n",
       "      <td>2017-05-06 23:43:27</td>\n",
       "      <td>Test</td>\n",
       "    </tr>\n",
       "    <tr>\n",
       "      <th>317231</th>\n",
       "      <td>2908510</td>\n",
       "      <td>814969699_90652851448</td>\n",
       "      <td>562606085_36368381773_92090</td>\n",
       "      <td>start</td>\n",
       "      <td>2017-05-10 22:57:17</td>\n",
       "      <td>Control</td>\n",
       "    </tr>\n",
       "    <tr>\n",
       "      <th>317232</th>\n",
       "      <td>2908510</td>\n",
       "      <td>814969699_90652851448</td>\n",
       "      <td>562606085_36368381773_92090</td>\n",
       "      <td>step_2</td>\n",
       "      <td>2017-05-10 22:56:31</td>\n",
       "      <td>Control</td>\n",
       "    </tr>\n",
       "    <tr>\n",
       "      <th>317233</th>\n",
       "      <td>2908510</td>\n",
       "      <td>814969699_90652851448</td>\n",
       "      <td>562606085_36368381773_92090</td>\n",
       "      <td>step_1</td>\n",
       "      <td>2017-05-10 22:56:23</td>\n",
       "      <td>Control</td>\n",
       "    </tr>\n",
       "    <tr>\n",
       "      <th>317234</th>\n",
       "      <td>2908510</td>\n",
       "      <td>814969699_90652851448</td>\n",
       "      <td>562606085_36368381773_92090</td>\n",
       "      <td>start</td>\n",
       "      <td>2017-05-10 22:56:20</td>\n",
       "      <td>Control</td>\n",
       "    </tr>\n",
       "  </tbody>\n",
       "</table>\n",
       "</div>"
      ],
      "text/plain": [
       "        client_id             visitor_id                      visit_id  \\\n",
       "317230    1574008  117364417_77840596075  528720790_71583064618_169151   \n",
       "317231    2908510  814969699_90652851448   562606085_36368381773_92090   \n",
       "317232    2908510  814969699_90652851448   562606085_36368381773_92090   \n",
       "317233    2908510  814969699_90652851448   562606085_36368381773_92090   \n",
       "317234    2908510  814969699_90652851448   562606085_36368381773_92090   \n",
       "\n",
       "       process_step            date_time treatment_group  \n",
       "317230        start  2017-05-06 23:43:27            Test  \n",
       "317231        start  2017-05-10 22:57:17         Control  \n",
       "317232       step_2  2017-05-10 22:56:31         Control  \n",
       "317233       step_1  2017-05-10 22:56:23         Control  \n",
       "317234        start  2017-05-10 22:56:20         Control  "
      ]
     },
     "execution_count": 5,
     "metadata": {},
     "output_type": "execute_result"
    }
   ],
   "source": [
    "df_footprints_cleaned = pd.read_csv(config['data']['clean']['footprint_final_client_experiment_Cleaned'])\n",
    "df_footprints_cleaned.tail()"
   ]
  },
  {
   "cell_type": "code",
   "execution_count": 10,
   "metadata": {},
   "outputs": [
    {
     "name": "stdout",
     "output_type": "stream",
     "text": [
      "<class 'pandas.core.frame.DataFrame'>\n",
      "RangeIndex: 317235 entries, 0 to 317234\n",
      "Data columns (total 6 columns):\n",
      " #   Column           Non-Null Count   Dtype \n",
      "---  ------           --------------   ----- \n",
      " 0   client_id        317235 non-null  int64 \n",
      " 1   visitor_id       317235 non-null  object\n",
      " 2   visit_id         317235 non-null  object\n",
      " 3   process_step     317235 non-null  object\n",
      " 4   date_time        317235 non-null  object\n",
      " 5   treatment_group  317235 non-null  object\n",
      "dtypes: int64(1), object(5)\n",
      "memory usage: 14.5+ MB\n"
     ]
    }
   ],
   "source": [
    "# df_footprints_cleaned.duplicated(subset = [\"client_id\",\"visitor_id\", \"visit_id\" ]).sum()\n",
    "df_footprints_cleaned.info()"
   ]
  },
  {
   "cell_type": "code",
   "execution_count": 33,
   "metadata": {},
   "outputs": [
    {
     "data": {
      "text/plain": [
       "(305837, 6)"
      ]
     },
     "execution_count": 33,
     "metadata": {},
     "output_type": "execute_result"
    }
   ],
   "source": [
    "df_online = df_footprints_cleaned[df_footprints_cleaned.duplicated(['client_id','visitor_id','visit_id'],keep=False)]\n",
    "df_online.shape\n",
    "# df_online[df_online[\"client_id\"] == 1336]"
   ]
  },
  {
   "cell_type": "code",
   "execution_count": 32,
   "metadata": {},
   "outputs": [
    {
     "data": {
      "text/plain": [
       "(11398, 6)"
      ]
     },
     "execution_count": 32,
     "metadata": {},
     "output_type": "execute_result"
    }
   ],
   "source": [
    "df_not_online = df_footprints_cleaned[~df_footprints_cleaned.duplicated(subset = [\"client_id\",\"visitor_id\", \"visit_id\" ],keep=False)]\n",
    "df_not_online.shape"
   ]
  },
  {
   "cell_type": "code",
   "execution_count": 36,
   "metadata": {},
   "outputs": [
    {
     "data": {
      "text/plain": [
       "True"
      ]
     },
     "execution_count": 36,
     "metadata": {},
     "output_type": "execute_result"
    }
   ],
   "source": [
    "df_footprints_cleaned.shape[0] == df_online.shape[0] + df_not_online.shape[0]"
   ]
  },
  {
   "cell_type": "code",
   "execution_count": 40,
   "metadata": {},
   "outputs": [
    {
     "data": {
      "application/vnd.microsoft.datawrangler.viewer.v0+json": {
       "columns": [
        {
         "name": "index",
         "rawType": "int64",
         "type": "integer"
        },
        {
         "name": "client_id",
         "rawType": "int64",
         "type": "integer"
        },
        {
         "name": "visitor_id",
         "rawType": "object",
         "type": "string"
        },
        {
         "name": "visit_id",
         "rawType": "object",
         "type": "string"
        },
        {
         "name": "process_step",
         "rawType": "object",
         "type": "string"
        },
        {
         "name": "date_time",
         "rawType": "object",
         "type": "string"
        },
        {
         "name": "treatment_group",
         "rawType": "object",
         "type": "string"
        }
       ],
       "ref": "ddf800e8-e80f-4f7f-a9c0-7125779eedfc",
       "rows": [
        [
         "317226",
         "1574008",
         "117364417_77840596075",
         "528720790_71583064618_169151",
         "confirm",
         "2017-05-06 23:51:05",
         "Test"
        ],
        [
         "317227",
         "1574008",
         "117364417_77840596075",
         "528720790_71583064618_169151",
         "step_3",
         "2017-05-06 23:50:40",
         "Test"
        ],
        [
         "317228",
         "1574008",
         "117364417_77840596075",
         "528720790_71583064618_169151",
         "step_2",
         "2017-05-06 23:43:47",
         "Test"
        ],
        [
         "317229",
         "1574008",
         "117364417_77840596075",
         "528720790_71583064618_169151",
         "step_1",
         "2017-05-06 23:43:34",
         "Test"
        ],
        [
         "317230",
         "1574008",
         "117364417_77840596075",
         "528720790_71583064618_169151",
         "start",
         "2017-05-06 23:43:27",
         "Test"
        ]
       ],
       "shape": {
        "columns": 6,
        "rows": 5
       }
      },
      "text/html": [
       "<div>\n",
       "<style scoped>\n",
       "    .dataframe tbody tr th:only-of-type {\n",
       "        vertical-align: middle;\n",
       "    }\n",
       "\n",
       "    .dataframe tbody tr th {\n",
       "        vertical-align: top;\n",
       "    }\n",
       "\n",
       "    .dataframe thead th {\n",
       "        text-align: right;\n",
       "    }\n",
       "</style>\n",
       "<table border=\"1\" class=\"dataframe\">\n",
       "  <thead>\n",
       "    <tr style=\"text-align: right;\">\n",
       "      <th></th>\n",
       "      <th>client_id</th>\n",
       "      <th>visitor_id</th>\n",
       "      <th>visit_id</th>\n",
       "      <th>process_step</th>\n",
       "      <th>date_time</th>\n",
       "      <th>treatment_group</th>\n",
       "    </tr>\n",
       "  </thead>\n",
       "  <tbody>\n",
       "    <tr>\n",
       "      <th>317226</th>\n",
       "      <td>1574008</td>\n",
       "      <td>117364417_77840596075</td>\n",
       "      <td>528720790_71583064618_169151</td>\n",
       "      <td>confirm</td>\n",
       "      <td>2017-05-06 23:51:05</td>\n",
       "      <td>Test</td>\n",
       "    </tr>\n",
       "    <tr>\n",
       "      <th>317227</th>\n",
       "      <td>1574008</td>\n",
       "      <td>117364417_77840596075</td>\n",
       "      <td>528720790_71583064618_169151</td>\n",
       "      <td>step_3</td>\n",
       "      <td>2017-05-06 23:50:40</td>\n",
       "      <td>Test</td>\n",
       "    </tr>\n",
       "    <tr>\n",
       "      <th>317228</th>\n",
       "      <td>1574008</td>\n",
       "      <td>117364417_77840596075</td>\n",
       "      <td>528720790_71583064618_169151</td>\n",
       "      <td>step_2</td>\n",
       "      <td>2017-05-06 23:43:47</td>\n",
       "      <td>Test</td>\n",
       "    </tr>\n",
       "    <tr>\n",
       "      <th>317229</th>\n",
       "      <td>1574008</td>\n",
       "      <td>117364417_77840596075</td>\n",
       "      <td>528720790_71583064618_169151</td>\n",
       "      <td>step_1</td>\n",
       "      <td>2017-05-06 23:43:34</td>\n",
       "      <td>Test</td>\n",
       "    </tr>\n",
       "    <tr>\n",
       "      <th>317230</th>\n",
       "      <td>1574008</td>\n",
       "      <td>117364417_77840596075</td>\n",
       "      <td>528720790_71583064618_169151</td>\n",
       "      <td>start</td>\n",
       "      <td>2017-05-06 23:43:27</td>\n",
       "      <td>Test</td>\n",
       "    </tr>\n",
       "  </tbody>\n",
       "</table>\n",
       "</div>"
      ],
      "text/plain": [
       "        client_id             visitor_id                      visit_id  \\\n",
       "317226    1574008  117364417_77840596075  528720790_71583064618_169151   \n",
       "317227    1574008  117364417_77840596075  528720790_71583064618_169151   \n",
       "317228    1574008  117364417_77840596075  528720790_71583064618_169151   \n",
       "317229    1574008  117364417_77840596075  528720790_71583064618_169151   \n",
       "317230    1574008  117364417_77840596075  528720790_71583064618_169151   \n",
       "\n",
       "       process_step            date_time treatment_group  \n",
       "317226      confirm  2017-05-06 23:51:05            Test  \n",
       "317227       step_3  2017-05-06 23:50:40            Test  \n",
       "317228       step_2  2017-05-06 23:43:47            Test  \n",
       "317229       step_1  2017-05-06 23:43:34            Test  \n",
       "317230        start  2017-05-06 23:43:27            Test  "
      ]
     },
     "execution_count": 40,
     "metadata": {},
     "output_type": "execute_result"
    }
   ],
   "source": [
    "df_online[df_online[\"client_id\"]== 1574008]"
   ]
  },
  {
   "cell_type": "code",
   "execution_count": 41,
   "metadata": {},
   "outputs": [
    {
     "data": {
      "application/vnd.microsoft.datawrangler.viewer.v0+json": {
       "columns": [
        {
         "name": "index",
         "rawType": "int64",
         "type": "integer"
        },
        {
         "name": "client_id",
         "rawType": "int64",
         "type": "integer"
        },
        {
         "name": "visitor_id",
         "rawType": "object",
         "type": "string"
        },
        {
         "name": "visit_id",
         "rawType": "object",
         "type": "string"
        },
        {
         "name": "process_step",
         "rawType": "object",
         "type": "string"
        },
        {
         "name": "date_time",
         "rawType": "object",
         "type": "string"
        },
        {
         "name": "treatment_group",
         "rawType": "object",
         "type": "string"
        }
       ],
       "ref": "6d4bfee3-6569-44d9-8626-82f268413e56",
       "rows": [
        [
         "317224",
         "433098",
         "5505424_50616523266",
         "773565250_67577573147_389841",
         "start",
         "2017-05-13 15:30:47",
         "Control"
        ],
        [
         "317226",
         "1574008",
         "117364417_77840596075",
         "528720790_71583064618_169151",
         "confirm",
         "2017-05-06 23:51:05",
         "Test"
        ],
        [
         "317227",
         "1574008",
         "117364417_77840596075",
         "528720790_71583064618_169151",
         "step_3",
         "2017-05-06 23:50:40",
         "Test"
        ],
        [
         "317228",
         "1574008",
         "117364417_77840596075",
         "528720790_71583064618_169151",
         "step_2",
         "2017-05-06 23:43:47",
         "Test"
        ],
        [
         "317229",
         "1574008",
         "117364417_77840596075",
         "528720790_71583064618_169151",
         "step_1",
         "2017-05-06 23:43:34",
         "Test"
        ],
        [
         "317230",
         "1574008",
         "117364417_77840596075",
         "528720790_71583064618_169151",
         "start",
         "2017-05-06 23:43:27",
         "Test"
        ],
        [
         "317231",
         "2908510",
         "814969699_90652851448",
         "562606085_36368381773_92090",
         "start",
         "2017-05-10 22:57:17",
         "Control"
        ],
        [
         "317232",
         "2908510",
         "814969699_90652851448",
         "562606085_36368381773_92090",
         "step_2",
         "2017-05-10 22:56:31",
         "Control"
        ],
        [
         "317233",
         "2908510",
         "814969699_90652851448",
         "562606085_36368381773_92090",
         "step_1",
         "2017-05-10 22:56:23",
         "Control"
        ],
        [
         "317234",
         "2908510",
         "814969699_90652851448",
         "562606085_36368381773_92090",
         "start",
         "2017-05-10 22:56:20",
         "Control"
        ]
       ],
       "shape": {
        "columns": 6,
        "rows": 10
       }
      },
      "text/html": [
       "<div>\n",
       "<style scoped>\n",
       "    .dataframe tbody tr th:only-of-type {\n",
       "        vertical-align: middle;\n",
       "    }\n",
       "\n",
       "    .dataframe tbody tr th {\n",
       "        vertical-align: top;\n",
       "    }\n",
       "\n",
       "    .dataframe thead th {\n",
       "        text-align: right;\n",
       "    }\n",
       "</style>\n",
       "<table border=\"1\" class=\"dataframe\">\n",
       "  <thead>\n",
       "    <tr style=\"text-align: right;\">\n",
       "      <th></th>\n",
       "      <th>client_id</th>\n",
       "      <th>visitor_id</th>\n",
       "      <th>visit_id</th>\n",
       "      <th>process_step</th>\n",
       "      <th>date_time</th>\n",
       "      <th>treatment_group</th>\n",
       "    </tr>\n",
       "  </thead>\n",
       "  <tbody>\n",
       "    <tr>\n",
       "      <th>317224</th>\n",
       "      <td>433098</td>\n",
       "      <td>5505424_50616523266</td>\n",
       "      <td>773565250_67577573147_389841</td>\n",
       "      <td>start</td>\n",
       "      <td>2017-05-13 15:30:47</td>\n",
       "      <td>Control</td>\n",
       "    </tr>\n",
       "    <tr>\n",
       "      <th>317226</th>\n",
       "      <td>1574008</td>\n",
       "      <td>117364417_77840596075</td>\n",
       "      <td>528720790_71583064618_169151</td>\n",
       "      <td>confirm</td>\n",
       "      <td>2017-05-06 23:51:05</td>\n",
       "      <td>Test</td>\n",
       "    </tr>\n",
       "    <tr>\n",
       "      <th>317227</th>\n",
       "      <td>1574008</td>\n",
       "      <td>117364417_77840596075</td>\n",
       "      <td>528720790_71583064618_169151</td>\n",
       "      <td>step_3</td>\n",
       "      <td>2017-05-06 23:50:40</td>\n",
       "      <td>Test</td>\n",
       "    </tr>\n",
       "    <tr>\n",
       "      <th>317228</th>\n",
       "      <td>1574008</td>\n",
       "      <td>117364417_77840596075</td>\n",
       "      <td>528720790_71583064618_169151</td>\n",
       "      <td>step_2</td>\n",
       "      <td>2017-05-06 23:43:47</td>\n",
       "      <td>Test</td>\n",
       "    </tr>\n",
       "    <tr>\n",
       "      <th>317229</th>\n",
       "      <td>1574008</td>\n",
       "      <td>117364417_77840596075</td>\n",
       "      <td>528720790_71583064618_169151</td>\n",
       "      <td>step_1</td>\n",
       "      <td>2017-05-06 23:43:34</td>\n",
       "      <td>Test</td>\n",
       "    </tr>\n",
       "    <tr>\n",
       "      <th>317230</th>\n",
       "      <td>1574008</td>\n",
       "      <td>117364417_77840596075</td>\n",
       "      <td>528720790_71583064618_169151</td>\n",
       "      <td>start</td>\n",
       "      <td>2017-05-06 23:43:27</td>\n",
       "      <td>Test</td>\n",
       "    </tr>\n",
       "    <tr>\n",
       "      <th>317231</th>\n",
       "      <td>2908510</td>\n",
       "      <td>814969699_90652851448</td>\n",
       "      <td>562606085_36368381773_92090</td>\n",
       "      <td>start</td>\n",
       "      <td>2017-05-10 22:57:17</td>\n",
       "      <td>Control</td>\n",
       "    </tr>\n",
       "    <tr>\n",
       "      <th>317232</th>\n",
       "      <td>2908510</td>\n",
       "      <td>814969699_90652851448</td>\n",
       "      <td>562606085_36368381773_92090</td>\n",
       "      <td>step_2</td>\n",
       "      <td>2017-05-10 22:56:31</td>\n",
       "      <td>Control</td>\n",
       "    </tr>\n",
       "    <tr>\n",
       "      <th>317233</th>\n",
       "      <td>2908510</td>\n",
       "      <td>814969699_90652851448</td>\n",
       "      <td>562606085_36368381773_92090</td>\n",
       "      <td>step_1</td>\n",
       "      <td>2017-05-10 22:56:23</td>\n",
       "      <td>Control</td>\n",
       "    </tr>\n",
       "    <tr>\n",
       "      <th>317234</th>\n",
       "      <td>2908510</td>\n",
       "      <td>814969699_90652851448</td>\n",
       "      <td>562606085_36368381773_92090</td>\n",
       "      <td>start</td>\n",
       "      <td>2017-05-10 22:56:20</td>\n",
       "      <td>Control</td>\n",
       "    </tr>\n",
       "  </tbody>\n",
       "</table>\n",
       "</div>"
      ],
      "text/plain": [
       "        client_id             visitor_id                      visit_id  \\\n",
       "317224     433098    5505424_50616523266  773565250_67577573147_389841   \n",
       "317226    1574008  117364417_77840596075  528720790_71583064618_169151   \n",
       "317227    1574008  117364417_77840596075  528720790_71583064618_169151   \n",
       "317228    1574008  117364417_77840596075  528720790_71583064618_169151   \n",
       "317229    1574008  117364417_77840596075  528720790_71583064618_169151   \n",
       "317230    1574008  117364417_77840596075  528720790_71583064618_169151   \n",
       "317231    2908510  814969699_90652851448   562606085_36368381773_92090   \n",
       "317232    2908510  814969699_90652851448   562606085_36368381773_92090   \n",
       "317233    2908510  814969699_90652851448   562606085_36368381773_92090   \n",
       "317234    2908510  814969699_90652851448   562606085_36368381773_92090   \n",
       "\n",
       "       process_step            date_time treatment_group  \n",
       "317224        start  2017-05-13 15:30:47         Control  \n",
       "317226      confirm  2017-05-06 23:51:05            Test  \n",
       "317227       step_3  2017-05-06 23:50:40            Test  \n",
       "317228       step_2  2017-05-06 23:43:47            Test  \n",
       "317229       step_1  2017-05-06 23:43:34            Test  \n",
       "317230        start  2017-05-06 23:43:27            Test  \n",
       "317231        start  2017-05-10 22:57:17         Control  \n",
       "317232       step_2  2017-05-10 22:56:31         Control  \n",
       "317233       step_1  2017-05-10 22:56:23         Control  \n",
       "317234        start  2017-05-10 22:56:20         Control  "
      ]
     },
     "execution_count": 41,
     "metadata": {},
     "output_type": "execute_result"
    }
   ],
   "source": [
    "df_online.tail(10)"
   ]
  },
  {
   "cell_type": "code",
   "execution_count": 43,
   "metadata": {},
   "outputs": [],
   "source": [
    "df_online_sort = df_online.sort_values(by = [\"client_id\",\"date_time\"], ascending= True)"
   ]
  },
  {
   "cell_type": "code",
   "execution_count": null,
   "metadata": {},
   "outputs": [
    {
     "data": {
      "application/vnd.microsoft.datawrangler.viewer.v0+json": {
       "columns": [
        {
         "name": "index",
         "rawType": "int64",
         "type": "integer"
        },
        {
         "name": "client_id",
         "rawType": "int64",
         "type": "integer"
        },
        {
         "name": "visitor_id",
         "rawType": "object",
         "type": "string"
        },
        {
         "name": "visit_id",
         "rawType": "object",
         "type": "string"
        },
        {
         "name": "process_step",
         "rawType": "object",
         "type": "string"
        },
        {
         "name": "date_time",
         "rawType": "object",
         "type": "string"
        },
        {
         "name": "treatment_group",
         "rawType": "object",
         "type": "string"
        }
       ],
       "ref": "49e1be2e-40fd-435e-a7a2-f3d37bf09dc6",
       "rows": [
        [
         "177529",
         "9999400",
         "915967319_19082377501",
         "288904166_90826265353_276104",
         "start",
         "2017-04-20 05:21:28",
         "Test"
        ],
        [
         "177528",
         "9999400",
         "915967319_19082377501",
         "288904166_90826265353_276104",
         "step_1",
         "2017-04-20 05:21:50",
         "Test"
        ],
        [
         "177527",
         "9999400",
         "915967319_19082377501",
         "288904166_90826265353_276104",
         "step_2",
         "2017-04-20 05:22:17",
         "Test"
        ],
        [
         "177526",
         "9999400",
         "915967319_19082377501",
         "288904166_90826265353_276104",
         "step_3",
         "2017-04-20 05:23:03",
         "Test"
        ],
        [
         "177525",
         "9999400",
         "915967319_19082377501",
         "288904166_90826265353_276104",
         "confirm",
         "2017-04-20 05:23:27",
         "Test"
        ],
        [
         "299437",
         "9999626",
         "52633065_71189986073",
         "182723364_27031318473_880901",
         "start",
         "2017-05-14 09:07:51",
         "Test"
        ],
        [
         "299436",
         "9999626",
         "52633065_71189986073",
         "182723364_27031318473_880901",
         "step_1",
         "2017-05-14 09:07:59",
         "Test"
        ],
        [
         "104812",
         "9999729",
         "604429154_69247391147",
         "99583652_41711450505_426179",
         "start",
         "2017-04-05 13:40:49",
         "Test"
        ],
        [
         "104811",
         "9999729",
         "604429154_69247391147",
         "99583652_41711450505_426179",
         "step_1",
         "2017-04-05 13:41:04",
         "Test"
        ],
        [
         "104883",
         "9999729",
         "843385170_36953471821",
         "493310979_9209676464_421146",
         "start",
         "2017-04-20 14:21:27",
         "Test"
        ],
        [
         "104882",
         "9999729",
         "843385170_36953471821",
         "493310979_9209676464_421146",
         "step_1",
         "2017-04-20 14:22:49",
         "Test"
        ],
        [
         "104881",
         "9999729",
         "843385170_36953471821",
         "493310979_9209676464_421146",
         "step_2",
         "2017-04-20 14:27:36",
         "Test"
        ],
        [
         "104880",
         "9999729",
         "843385170_36953471821",
         "493310979_9209676464_421146",
         "start",
         "2017-04-20 14:28:57",
         "Test"
        ],
        [
         "273890",
         "9999729",
         "834634258_21862004160",
         "870243567_56915814033_814203",
         "start",
         "2017-05-08 16:08:25",
         "Test"
        ],
        [
         "273889",
         "9999729",
         "834634258_21862004160",
         "870243567_56915814033_814203",
         "step_1",
         "2017-05-08 16:08:30",
         "Test"
        ],
        [
         "273888",
         "9999729",
         "834634258_21862004160",
         "870243567_56915814033_814203",
         "step_2",
         "2017-05-08 16:08:40",
         "Test"
        ],
        [
         "273887",
         "9999729",
         "834634258_21862004160",
         "870243567_56915814033_814203",
         "step_3",
         "2017-05-08 16:09:19",
         "Test"
        ],
        [
         "273886",
         "9999729",
         "834634258_21862004160",
         "870243567_56915814033_814203",
         "confirm",
         "2017-05-08 16:09:40",
         "Test"
        ],
        [
         "243649",
         "9999832",
         "145538019_54444341400",
         "472154369_16714624241_585315",
         "start",
         "2017-05-16 16:46:03",
         "Test"
        ],
        [
         "243648",
         "9999832",
         "145538019_54444341400",
         "472154369_16714624241_585315",
         "step_1",
         "2017-05-16 16:46:11",
         "Test"
        ]
       ],
       "shape": {
        "columns": 6,
        "rows": 20
       }
      },
      "text/html": [
       "<div>\n",
       "<style scoped>\n",
       "    .dataframe tbody tr th:only-of-type {\n",
       "        vertical-align: middle;\n",
       "    }\n",
       "\n",
       "    .dataframe tbody tr th {\n",
       "        vertical-align: top;\n",
       "    }\n",
       "\n",
       "    .dataframe thead th {\n",
       "        text-align: right;\n",
       "    }\n",
       "</style>\n",
       "<table border=\"1\" class=\"dataframe\">\n",
       "  <thead>\n",
       "    <tr style=\"text-align: right;\">\n",
       "      <th></th>\n",
       "      <th>client_id</th>\n",
       "      <th>visitor_id</th>\n",
       "      <th>visit_id</th>\n",
       "      <th>process_step</th>\n",
       "      <th>date_time</th>\n",
       "      <th>treatment_group</th>\n",
       "    </tr>\n",
       "  </thead>\n",
       "  <tbody>\n",
       "    <tr>\n",
       "      <th>177529</th>\n",
       "      <td>9999400</td>\n",
       "      <td>915967319_19082377501</td>\n",
       "      <td>288904166_90826265353_276104</td>\n",
       "      <td>start</td>\n",
       "      <td>2017-04-20 05:21:28</td>\n",
       "      <td>Test</td>\n",
       "    </tr>\n",
       "    <tr>\n",
       "      <th>177528</th>\n",
       "      <td>9999400</td>\n",
       "      <td>915967319_19082377501</td>\n",
       "      <td>288904166_90826265353_276104</td>\n",
       "      <td>step_1</td>\n",
       "      <td>2017-04-20 05:21:50</td>\n",
       "      <td>Test</td>\n",
       "    </tr>\n",
       "    <tr>\n",
       "      <th>177527</th>\n",
       "      <td>9999400</td>\n",
       "      <td>915967319_19082377501</td>\n",
       "      <td>288904166_90826265353_276104</td>\n",
       "      <td>step_2</td>\n",
       "      <td>2017-04-20 05:22:17</td>\n",
       "      <td>Test</td>\n",
       "    </tr>\n",
       "    <tr>\n",
       "      <th>177526</th>\n",
       "      <td>9999400</td>\n",
       "      <td>915967319_19082377501</td>\n",
       "      <td>288904166_90826265353_276104</td>\n",
       "      <td>step_3</td>\n",
       "      <td>2017-04-20 05:23:03</td>\n",
       "      <td>Test</td>\n",
       "    </tr>\n",
       "    <tr>\n",
       "      <th>177525</th>\n",
       "      <td>9999400</td>\n",
       "      <td>915967319_19082377501</td>\n",
       "      <td>288904166_90826265353_276104</td>\n",
       "      <td>confirm</td>\n",
       "      <td>2017-04-20 05:23:27</td>\n",
       "      <td>Test</td>\n",
       "    </tr>\n",
       "    <tr>\n",
       "      <th>299437</th>\n",
       "      <td>9999626</td>\n",
       "      <td>52633065_71189986073</td>\n",
       "      <td>182723364_27031318473_880901</td>\n",
       "      <td>start</td>\n",
       "      <td>2017-05-14 09:07:51</td>\n",
       "      <td>Test</td>\n",
       "    </tr>\n",
       "    <tr>\n",
       "      <th>299436</th>\n",
       "      <td>9999626</td>\n",
       "      <td>52633065_71189986073</td>\n",
       "      <td>182723364_27031318473_880901</td>\n",
       "      <td>step_1</td>\n",
       "      <td>2017-05-14 09:07:59</td>\n",
       "      <td>Test</td>\n",
       "    </tr>\n",
       "    <tr>\n",
       "      <th>104812</th>\n",
       "      <td>9999729</td>\n",
       "      <td>604429154_69247391147</td>\n",
       "      <td>99583652_41711450505_426179</td>\n",
       "      <td>start</td>\n",
       "      <td>2017-04-05 13:40:49</td>\n",
       "      <td>Test</td>\n",
       "    </tr>\n",
       "    <tr>\n",
       "      <th>104811</th>\n",
       "      <td>9999729</td>\n",
       "      <td>604429154_69247391147</td>\n",
       "      <td>99583652_41711450505_426179</td>\n",
       "      <td>step_1</td>\n",
       "      <td>2017-04-05 13:41:04</td>\n",
       "      <td>Test</td>\n",
       "    </tr>\n",
       "    <tr>\n",
       "      <th>104883</th>\n",
       "      <td>9999729</td>\n",
       "      <td>843385170_36953471821</td>\n",
       "      <td>493310979_9209676464_421146</td>\n",
       "      <td>start</td>\n",
       "      <td>2017-04-20 14:21:27</td>\n",
       "      <td>Test</td>\n",
       "    </tr>\n",
       "    <tr>\n",
       "      <th>104882</th>\n",
       "      <td>9999729</td>\n",
       "      <td>843385170_36953471821</td>\n",
       "      <td>493310979_9209676464_421146</td>\n",
       "      <td>step_1</td>\n",
       "      <td>2017-04-20 14:22:49</td>\n",
       "      <td>Test</td>\n",
       "    </tr>\n",
       "    <tr>\n",
       "      <th>104881</th>\n",
       "      <td>9999729</td>\n",
       "      <td>843385170_36953471821</td>\n",
       "      <td>493310979_9209676464_421146</td>\n",
       "      <td>step_2</td>\n",
       "      <td>2017-04-20 14:27:36</td>\n",
       "      <td>Test</td>\n",
       "    </tr>\n",
       "    <tr>\n",
       "      <th>104880</th>\n",
       "      <td>9999729</td>\n",
       "      <td>843385170_36953471821</td>\n",
       "      <td>493310979_9209676464_421146</td>\n",
       "      <td>start</td>\n",
       "      <td>2017-04-20 14:28:57</td>\n",
       "      <td>Test</td>\n",
       "    </tr>\n",
       "    <tr>\n",
       "      <th>273890</th>\n",
       "      <td>9999729</td>\n",
       "      <td>834634258_21862004160</td>\n",
       "      <td>870243567_56915814033_814203</td>\n",
       "      <td>start</td>\n",
       "      <td>2017-05-08 16:08:25</td>\n",
       "      <td>Test</td>\n",
       "    </tr>\n",
       "    <tr>\n",
       "      <th>273889</th>\n",
       "      <td>9999729</td>\n",
       "      <td>834634258_21862004160</td>\n",
       "      <td>870243567_56915814033_814203</td>\n",
       "      <td>step_1</td>\n",
       "      <td>2017-05-08 16:08:30</td>\n",
       "      <td>Test</td>\n",
       "    </tr>\n",
       "    <tr>\n",
       "      <th>273888</th>\n",
       "      <td>9999729</td>\n",
       "      <td>834634258_21862004160</td>\n",
       "      <td>870243567_56915814033_814203</td>\n",
       "      <td>step_2</td>\n",
       "      <td>2017-05-08 16:08:40</td>\n",
       "      <td>Test</td>\n",
       "    </tr>\n",
       "    <tr>\n",
       "      <th>273887</th>\n",
       "      <td>9999729</td>\n",
       "      <td>834634258_21862004160</td>\n",
       "      <td>870243567_56915814033_814203</td>\n",
       "      <td>step_3</td>\n",
       "      <td>2017-05-08 16:09:19</td>\n",
       "      <td>Test</td>\n",
       "    </tr>\n",
       "    <tr>\n",
       "      <th>273886</th>\n",
       "      <td>9999729</td>\n",
       "      <td>834634258_21862004160</td>\n",
       "      <td>870243567_56915814033_814203</td>\n",
       "      <td>confirm</td>\n",
       "      <td>2017-05-08 16:09:40</td>\n",
       "      <td>Test</td>\n",
       "    </tr>\n",
       "    <tr>\n",
       "      <th>243649</th>\n",
       "      <td>9999832</td>\n",
       "      <td>145538019_54444341400</td>\n",
       "      <td>472154369_16714624241_585315</td>\n",
       "      <td>start</td>\n",
       "      <td>2017-05-16 16:46:03</td>\n",
       "      <td>Test</td>\n",
       "    </tr>\n",
       "    <tr>\n",
       "      <th>243648</th>\n",
       "      <td>9999832</td>\n",
       "      <td>145538019_54444341400</td>\n",
       "      <td>472154369_16714624241_585315</td>\n",
       "      <td>step_1</td>\n",
       "      <td>2017-05-16 16:46:11</td>\n",
       "      <td>Test</td>\n",
       "    </tr>\n",
       "  </tbody>\n",
       "</table>\n",
       "</div>"
      ],
      "text/plain": [
       "        client_id             visitor_id                      visit_id  \\\n",
       "177529    9999400  915967319_19082377501  288904166_90826265353_276104   \n",
       "177528    9999400  915967319_19082377501  288904166_90826265353_276104   \n",
       "177527    9999400  915967319_19082377501  288904166_90826265353_276104   \n",
       "177526    9999400  915967319_19082377501  288904166_90826265353_276104   \n",
       "177525    9999400  915967319_19082377501  288904166_90826265353_276104   \n",
       "299437    9999626   52633065_71189986073  182723364_27031318473_880901   \n",
       "299436    9999626   52633065_71189986073  182723364_27031318473_880901   \n",
       "104812    9999729  604429154_69247391147   99583652_41711450505_426179   \n",
       "104811    9999729  604429154_69247391147   99583652_41711450505_426179   \n",
       "104883    9999729  843385170_36953471821   493310979_9209676464_421146   \n",
       "104882    9999729  843385170_36953471821   493310979_9209676464_421146   \n",
       "104881    9999729  843385170_36953471821   493310979_9209676464_421146   \n",
       "104880    9999729  843385170_36953471821   493310979_9209676464_421146   \n",
       "273890    9999729  834634258_21862004160  870243567_56915814033_814203   \n",
       "273889    9999729  834634258_21862004160  870243567_56915814033_814203   \n",
       "273888    9999729  834634258_21862004160  870243567_56915814033_814203   \n",
       "273887    9999729  834634258_21862004160  870243567_56915814033_814203   \n",
       "273886    9999729  834634258_21862004160  870243567_56915814033_814203   \n",
       "243649    9999832  145538019_54444341400  472154369_16714624241_585315   \n",
       "243648    9999832  145538019_54444341400  472154369_16714624241_585315   \n",
       "\n",
       "       process_step            date_time treatment_group  \n",
       "177529        start  2017-04-20 05:21:28            Test  \n",
       "177528       step_1  2017-04-20 05:21:50            Test  \n",
       "177527       step_2  2017-04-20 05:22:17            Test  \n",
       "177526       step_3  2017-04-20 05:23:03            Test  \n",
       "177525      confirm  2017-04-20 05:23:27            Test  \n",
       "299437        start  2017-05-14 09:07:51            Test  \n",
       "299436       step_1  2017-05-14 09:07:59            Test  \n",
       "104812        start  2017-04-05 13:40:49            Test  \n",
       "104811       step_1  2017-04-05 13:41:04            Test  \n",
       "104883        start  2017-04-20 14:21:27            Test  \n",
       "104882       step_1  2017-04-20 14:22:49            Test  \n",
       "104881       step_2  2017-04-20 14:27:36            Test  \n",
       "104880        start  2017-04-20 14:28:57            Test  \n",
       "273890        start  2017-05-08 16:08:25            Test  \n",
       "273889       step_1  2017-05-08 16:08:30            Test  \n",
       "273888       step_2  2017-05-08 16:08:40            Test  \n",
       "273887       step_3  2017-05-08 16:09:19            Test  \n",
       "273886      confirm  2017-05-08 16:09:40            Test  \n",
       "243649        start  2017-05-16 16:46:03            Test  \n",
       "243648       step_1  2017-05-16 16:46:11            Test  "
      ]
     },
     "execution_count": 45,
     "metadata": {},
     "output_type": "execute_result"
    }
   ],
   "source": [
    "df_online_sort.tail(20)"
   ]
  },
  {
   "cell_type": "code",
   "execution_count": 55,
   "metadata": {},
   "outputs": [],
   "source": [
    "df_online_sort[\"date_time\"] = pd.to_datetime(df_online_sort[\"date_time\"],errors=\"coerce\")"
   ]
  },
  {
   "cell_type": "code",
   "execution_count": 56,
   "metadata": {},
   "outputs": [],
   "source": [
    "df_online_sort[\"time_diff\"] = df_online_sort.groupby([\"client_id\",\"visitor_id\",\"visit_id\"])[\"date_time\"].transform(lambda x: x - x.iloc[0] if not x.isna().any() else pd.NA)\n",
    "# df_online_sort.groupby([\"client_id\",\"visitor_id\",\"visit_id\"])[\"date_time\"].agg({\"timediff\": lambda x: x - x.iloc[0]} )"
   ]
  },
  {
   "cell_type": "code",
   "execution_count": 60,
   "metadata": {},
   "outputs": [],
   "source": [
    "df_online_sort[\"time_diff_relative\"] = df_online_sort.groupby([\"client_id\", \"visitor_id\", \"visit_id\"])[\"date_time\"].diff().fillna(pd.Timedelta(0))"
   ]
  },
  {
   "cell_type": "code",
   "execution_count": 61,
   "metadata": {},
   "outputs": [
    {
     "data": {
      "application/vnd.microsoft.datawrangler.viewer.v0+json": {
       "columns": [
        {
         "name": "index",
         "rawType": "int64",
         "type": "integer"
        },
        {
         "name": "client_id",
         "rawType": "int64",
         "type": "integer"
        },
        {
         "name": "visitor_id",
         "rawType": "object",
         "type": "string"
        },
        {
         "name": "visit_id",
         "rawType": "object",
         "type": "string"
        },
        {
         "name": "process_step",
         "rawType": "object",
         "type": "string"
        },
        {
         "name": "date_time",
         "rawType": "datetime64[ns]",
         "type": "datetime"
        },
        {
         "name": "treatment_group",
         "rawType": "object",
         "type": "string"
        },
        {
         "name": "time_diff",
         "rawType": "timedelta64[ns]",
         "type": "unknown"
        },
        {
         "name": "time_diff_relative",
         "rawType": "timedelta64[ns]",
         "type": "unknown"
        }
       ],
       "ref": "2d1952ed-f9c7-4b2d-9a7b-d9e3b82a7414",
       "rows": [
        [
         "70440",
         "555",
         "402506806_56087378777",
         "637149525_38041617439_716659",
         "start",
         "2017-04-15 12:57:56",
         "Test",
         "0 days 00:00:00",
         "0 days 00:00:00"
        ],
        [
         "70439",
         "555",
         "402506806_56087378777",
         "637149525_38041617439_716659",
         "step_1",
         "2017-04-15 12:58:03",
         "Test",
         "0 days 00:00:07",
         "0 days 00:00:07"
        ],
        [
         "70438",
         "555",
         "402506806_56087378777",
         "637149525_38041617439_716659",
         "step_2",
         "2017-04-15 12:58:35",
         "Test",
         "0 days 00:00:39",
         "0 days 00:00:32"
        ],
        [
         "70437",
         "555",
         "402506806_56087378777",
         "637149525_38041617439_716659",
         "step_3",
         "2017-04-15 13:00:14",
         "Test",
         "0 days 00:02:18",
         "0 days 00:01:39"
        ],
        [
         "70436",
         "555",
         "402506806_56087378777",
         "637149525_38041617439_716659",
         "confirm",
         "2017-04-15 13:00:34",
         "Test",
         "0 days 00:02:38",
         "0 days 00:00:20"
        ]
       ],
       "shape": {
        "columns": 8,
        "rows": 5
       }
      },
      "text/html": [
       "<div>\n",
       "<style scoped>\n",
       "    .dataframe tbody tr th:only-of-type {\n",
       "        vertical-align: middle;\n",
       "    }\n",
       "\n",
       "    .dataframe tbody tr th {\n",
       "        vertical-align: top;\n",
       "    }\n",
       "\n",
       "    .dataframe thead th {\n",
       "        text-align: right;\n",
       "    }\n",
       "</style>\n",
       "<table border=\"1\" class=\"dataframe\">\n",
       "  <thead>\n",
       "    <tr style=\"text-align: right;\">\n",
       "      <th></th>\n",
       "      <th>client_id</th>\n",
       "      <th>visitor_id</th>\n",
       "      <th>visit_id</th>\n",
       "      <th>process_step</th>\n",
       "      <th>date_time</th>\n",
       "      <th>treatment_group</th>\n",
       "      <th>time_diff</th>\n",
       "      <th>time_diff_relative</th>\n",
       "    </tr>\n",
       "  </thead>\n",
       "  <tbody>\n",
       "    <tr>\n",
       "      <th>70440</th>\n",
       "      <td>555</td>\n",
       "      <td>402506806_56087378777</td>\n",
       "      <td>637149525_38041617439_716659</td>\n",
       "      <td>start</td>\n",
       "      <td>2017-04-15 12:57:56</td>\n",
       "      <td>Test</td>\n",
       "      <td>0 days 00:00:00</td>\n",
       "      <td>0 days 00:00:00</td>\n",
       "    </tr>\n",
       "    <tr>\n",
       "      <th>70439</th>\n",
       "      <td>555</td>\n",
       "      <td>402506806_56087378777</td>\n",
       "      <td>637149525_38041617439_716659</td>\n",
       "      <td>step_1</td>\n",
       "      <td>2017-04-15 12:58:03</td>\n",
       "      <td>Test</td>\n",
       "      <td>0 days 00:00:07</td>\n",
       "      <td>0 days 00:00:07</td>\n",
       "    </tr>\n",
       "    <tr>\n",
       "      <th>70438</th>\n",
       "      <td>555</td>\n",
       "      <td>402506806_56087378777</td>\n",
       "      <td>637149525_38041617439_716659</td>\n",
       "      <td>step_2</td>\n",
       "      <td>2017-04-15 12:58:35</td>\n",
       "      <td>Test</td>\n",
       "      <td>0 days 00:00:39</td>\n",
       "      <td>0 days 00:00:32</td>\n",
       "    </tr>\n",
       "    <tr>\n",
       "      <th>70437</th>\n",
       "      <td>555</td>\n",
       "      <td>402506806_56087378777</td>\n",
       "      <td>637149525_38041617439_716659</td>\n",
       "      <td>step_3</td>\n",
       "      <td>2017-04-15 13:00:14</td>\n",
       "      <td>Test</td>\n",
       "      <td>0 days 00:02:18</td>\n",
       "      <td>0 days 00:01:39</td>\n",
       "    </tr>\n",
       "    <tr>\n",
       "      <th>70436</th>\n",
       "      <td>555</td>\n",
       "      <td>402506806_56087378777</td>\n",
       "      <td>637149525_38041617439_716659</td>\n",
       "      <td>confirm</td>\n",
       "      <td>2017-04-15 13:00:34</td>\n",
       "      <td>Test</td>\n",
       "      <td>0 days 00:02:38</td>\n",
       "      <td>0 days 00:00:20</td>\n",
       "    </tr>\n",
       "  </tbody>\n",
       "</table>\n",
       "</div>"
      ],
      "text/plain": [
       "       client_id             visitor_id                      visit_id  \\\n",
       "70440        555  402506806_56087378777  637149525_38041617439_716659   \n",
       "70439        555  402506806_56087378777  637149525_38041617439_716659   \n",
       "70438        555  402506806_56087378777  637149525_38041617439_716659   \n",
       "70437        555  402506806_56087378777  637149525_38041617439_716659   \n",
       "70436        555  402506806_56087378777  637149525_38041617439_716659   \n",
       "\n",
       "      process_step           date_time treatment_group       time_diff  \\\n",
       "70440        start 2017-04-15 12:57:56            Test 0 days 00:00:00   \n",
       "70439       step_1 2017-04-15 12:58:03            Test 0 days 00:00:07   \n",
       "70438       step_2 2017-04-15 12:58:35            Test 0 days 00:00:39   \n",
       "70437       step_3 2017-04-15 13:00:14            Test 0 days 00:02:18   \n",
       "70436      confirm 2017-04-15 13:00:34            Test 0 days 00:02:38   \n",
       "\n",
       "      time_diff_relative  \n",
       "70440    0 days 00:00:00  \n",
       "70439    0 days 00:00:07  \n",
       "70438    0 days 00:00:32  \n",
       "70437    0 days 00:01:39  \n",
       "70436    0 days 00:00:20  "
      ]
     },
     "execution_count": 61,
     "metadata": {},
     "output_type": "execute_result"
    }
   ],
   "source": [
    "df_online_sort.head()"
   ]
  },
  {
   "cell_type": "code",
   "execution_count": 64,
   "metadata": {},
   "outputs": [],
   "source": [
    "df_online_sort.to_csv(config['data']['clean']['file_footprints_transformed'],sep=\",\", index= False)"
   ]
  },
  {
   "cell_type": "code",
   "execution_count": null,
   "metadata": {},
   "outputs": [],
   "source": []
  }
 ],
 "metadata": {
  "kernelspec": {
   "display_name": "proj-vanguard-abtest",
   "language": "python",
   "name": "python3"
  },
  "language_info": {
   "codemirror_mode": {
    "name": "ipython",
    "version": 3
   },
   "file_extension": ".py",
   "mimetype": "text/x-python",
   "name": "python",
   "nbconvert_exporter": "python",
   "pygments_lexer": "ipython3",
   "version": "3.13.5"
  }
 },
 "nbformat": 4,
 "nbformat_minor": 4
}
