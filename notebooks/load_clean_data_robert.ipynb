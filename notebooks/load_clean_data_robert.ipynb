{
 "cells": [
  {
   "cell_type": "code",
<<<<<<< HEAD
   "execution_count": 1,
=======
   "execution_count": 19,
>>>>>>> main
   "metadata": {},
   "outputs": [
    {
     "name": "stdout",
     "output_type": "stream",
     "text": [
      "Yaml configuration file not found!\n"
     ]
    }
   ],
   "source": [
    "import pandas as pd\n",
    "import matplotlib.pyplot as plt\n",
    "import seaborn as sns\n",
    "import numpy as np\n",
    "import yaml\n",
    "%matplotlib inline\n",
    "\n",
    "try:\n",
    "    with open(\"../config.yaml\", \"r\") as file:\n",
    "        config = yaml.safe_load(file)\n",
    "except:\n",
    "    print(\"Yaml configuration file not found!\")"
   ]
  },
  {
   "cell_type": "markdown",
   "metadata": {},
   "source": [
    "2. Loading Data"
   ]
  },
  {
   "cell_type": "code",
   "execution_count": null,
   "metadata": {},
   "outputs": [],
   "source": [
    "# config\n",
    "#['data']['clean']['file_demo_experiment_cleaned']"
   ]
  },
  {
   "cell_type": "code",
   "execution_count": null,
   "metadata": {},
   "outputs": [],
   "source": [
    "df_client = pd.read_csv(config['data']['raw']['file_client_profile'])\n",
    "df_experiment = pd.read_csv(config['data']['raw']['file_experiment_clients'])\n",
    "df_web1 = pd.read_csv(config['data']['raw']['file_web1'])\n",
    "df_web2 = pd.read_csv(config['data']['raw']['file_web2'])\n",
    "df_client_experiment = pd.read_csv(config['data']['raw']['file_demo_experiment'])"
   ]
  },
  {
   "cell_type": "code",
   "execution_count": null,
   "metadata": {},
   "outputs": [],
   "source": [
    "df_footprints = pd.concat([df_web1, df_web2])\n",
    "df_footprints.to_csv(config['data']['raw']['file_footprints'])\n",
    "df_footprints"
   ]
  },
  {
   "cell_type": "markdown",
   "metadata": {},
   "source": [
    "3. Generic EDA"
   ]
  },
  {
   "cell_type": "code",
   "execution_count": null,
   "metadata": {},
   "outputs": [],
   "source": [
    "df_client.info()"
   ]
  },
  {
   "cell_type": "code",
   "execution_count": null,
   "metadata": {},
   "outputs": [],
   "source": [
    "df_client.head()\n",
    "# df_client.isna().sum()\n",
    "# df_client[\"gendr\"].unique()\n",
    "# df_client[\"bal\"].min()\n",
    "# df_client[\"bal\"].max()\n"
   ]
  },
  {
   "cell_type": "code",
   "execution_count": null,
   "metadata": {},
   "outputs": [],
   "source": [
    "df_client[\"calls_6_mnth\"].unique()\n"
   ]
  },
  {
   "cell_type": "code",
   "execution_count": null,
   "metadata": {},
   "outputs": [],
   "source": [
    "# df_client[\"num_accts\"] =df_client[\"num_accts\"].astype(int)"
   ]
  },
  {
   "cell_type": "code",
   "execution_count": null,
   "metadata": {},
   "outputs": [],
   "source": [
    "df_experiment.head()"
   ]
  },
  {
   "cell_type": "code",
   "execution_count": null,
   "metadata": {},
   "outputs": [],
   "source": [
    "df_experiment[\"Variation\"].value_counts()\n",
    "# df_experiment.dtypes\n",
    "# df_experiment.isna().sum()"
   ]
  },
  {
   "cell_type": "code",
   "execution_count": null,
   "metadata": {},
   "outputs": [],
   "source": [
    "df_footprints.info()\n",
    "df_footprints.head()"
   ]
  },
  {
   "cell_type": "code",
   "execution_count": null,
   "metadata": {},
   "outputs": [],
   "source": [
    "df_footprints[\"visitor_id\"].nunique()"
   ]
  },
  {
   "cell_type": "code",
   "execution_count": null,
   "metadata": {},
   "outputs": [],
   "source": [
    "# df_web1.head()\n",
    "df_web1.info()\n",
    "df_web1.duplicated().sum()"
   ]
  },
  {
   "cell_type": "code",
   "execution_count": null,
   "metadata": {},
   "outputs": [],
   "source": [
    "# df_web2.head()\n",
    "df_web2.info()\n",
    "df_web2.duplicated().sum()"
   ]
  },
  {
   "cell_type": "code",
   "execution_count": null,
   "metadata": {},
   "outputs": [],
   "source": [
    "# df_footprints[\"process_step\"].unique()\n",
    "# df_footprints[\"client_id\"].value_counts()\n",
    "# df_footprints[\"process_step\"].unique()\n",
    "df_footprints.isna().sum()"
   ]
  },
  {
   "cell_type": "markdown",
   "metadata": {},
   "source": [
    "3a. df_client"
   ]
  },
  {
   "cell_type": "code",
   "execution_count": null,
   "metadata": {},
   "outputs": [],
   "source": [
    "# df_client.info()\n",
    "df_client.head()"
   ]
  },
  {
   "cell_type": "code",
   "execution_count": null,
   "metadata": {},
   "outputs": [],
   "source": [
    "df_client_experiment.info()\n",
    "df_client_experiment.head()\n"
   ]
  },
  {
   "cell_type": "code",
   "execution_count": null,
   "metadata": {},
   "outputs": [],
   "source": [
    "Active = ['Test', 'Control']\n",
    "test = df_client_experiment[df_client_experiment['variation'].isin(Active)]\n",
    "test['clnt_age'].describe()"
   ]
  },
  {
   "cell_type": "code",
   "execution_count": null,
   "metadata": {},
   "outputs": [],
   "source": [
    "test.head()"
   ]
  },
  {
   "cell_type": "code",
   "execution_count": null,
   "metadata": {},
   "outputs": [],
   "source": [
    "test['clnt_tenure_yr'].describe()"
   ]
  },
  {
   "cell_type": "code",
   "execution_count": null,
   "metadata": {},
   "outputs": [],
   "source": [
    "# sns.histplot(data=test,x=test[\"clnt_age\"],y=test[\"\"], )\n",
    "sns.histplot(data=test[\"clnt_age\"], kde=False, bins=10, color=\"salmon\");"
   ]
  },
  {
   "cell_type": "code",
   "execution_count": null,
   "metadata": {},
   "outputs": [],
   "source": [
    "sns.histplot(data=test[\"clnt_tenure_yr\"], kde=False, bins=20, color=\"salmon\");"
   ]
  },
  {
   "cell_type": "code",
   "execution_count": null,
   "metadata": {},
   "outputs": [],
   "source": [
    "test[\"clnt_age\"].value_counts().sort_values(ascending = False)"
   ]
  },
  {
   "cell_type": "code",
   "execution_count": null,
   "metadata": {},
   "outputs": [],
   "source": [
    "test[test[\"clnt_age\"]>35]"
   ]
  },
  {
   "cell_type": "code",
   "execution_count": null,
   "metadata": {},
   "outputs": [],
   "source": [
    "df_client.select_dtypes(\"number\").nunique().sort_values(ascending=False)"
   ]
  },
  {
   "cell_type": "code",
   "execution_count": null,
   "metadata": {},
   "outputs": [],
   "source": [
    "df_client.select_dtypes(\"object\").nunique().sort_values(ascending=False)"
   ]
  },
  {
   "cell_type": "code",
   "execution_count": null,
   "metadata": {},
   "outputs": [],
   "source": [
    "potential_categorical_from_numerical = df_client.select_dtypes(\"number\").loc[:, df_client.select_dtypes(\"number\").nunique() < 20]\n",
    "potential_categorical_from_numerical"
   ]
  },
  {
   "cell_type": "code",
   "execution_count": null,
   "metadata": {},
   "outputs": [],
   "source": [
    "df_client[\"gendr\"].value_counts()\n",
    "# df_client.isna().sum()"
   ]
  },
  {
   "cell_type": "code",
   "execution_count": null,
   "metadata": {},
   "outputs": [],
   "source": [
    "df_client[\"clnt_tenure_yr\"].value_counts().sort_index(ascending=True)#.tail()\n",
    "min_clnt_tenure_yr = df_client[\"clnt_tenure_yr\"].min()\n",
    "max_clnt_tenure_yr = df_client[\"clnt_tenure_yr\"].max()\n",
    "avg_clnt_tenure_yr = df_client[\"clnt_tenure_yr\"].mean()\n",
    "min_clnt_tenure_yr, max_clnt_tenure_yr"
   ]
  },
  {
   "cell_type": "code",
   "execution_count": null,
   "metadata": {},
   "outputs": [],
   "source": [
    "df_client[\"clnt_tenure_mnth\"].value_counts().sort_index(ascending=True)#.tail()"
   ]
  },
  {
   "cell_type": "code",
   "execution_count": null,
   "metadata": {},
   "outputs": [],
   "source": [
    "df_client[\"clnt_age\"].value_counts().sort_index(ascending=True)#.tail()"
   ]
  },
  {
   "cell_type": "markdown",
   "metadata": {},
   "source": [
    "4. Clean"
   ]
  },
  {
   "cell_type": "code",
   "execution_count": null,
   "metadata": {},
   "outputs": [],
   "source": [
    "# \n",
    "# df_client_experiment.isna().sum()\n",
    "# df1_demo.shape"
   ]
  },
  {
   "cell_type": "code",
   "execution_count": null,
   "metadata": {},
   "outputs": [],
   "source": [
    "# Clean/rename columns\n",
    "df_client_experiment = df_client_experiment.rename(columns = {\"clnt_tenure_yr\": \"client_tenure_year\", \"clnt_tenure_mnth\": \"client_tenure_month\", \"clnt_age\" : \"client_age\", \"gendr\": \"gender\", \"bal\": \"balance\",\"Variation\": \"treatment_group\"}).drop(columns = \"Unnamed: 0\")\n",
    "df_client_experiment.columns"
   ]
  },
  {
   "cell_type": "code",
   "execution_count": null,
   "metadata": {},
   "outputs": [],
   "source": [
    "# df_client_experiment.drop(\"Unnamed:\\ 0\")"
   ]
  },
  {
   "cell_type": "code",
   "execution_count": null,
   "metadata": {},
   "outputs": [],
   "source": [
    "# df_client_experiment[\"client_tenure_year\"].unique()"
   ]
  },
  {
   "cell_type": "code",
   "execution_count": null,
   "metadata": {},
   "outputs": [],
   "source": [
    "# df_client_experiment[df_client_experiment[\"client_tenure_month\"].isna()]\n",
    "# df_client_experiment.shape"
   ]
  },
  {
   "cell_type": "code",
   "execution_count": null,
   "metadata": {},
   "outputs": [],
   "source": [
    "#Drop  row, when values in subset are null\n",
    "df_client_experiment = df_client_experiment.dropna(subset = [\"client_tenure_year\", \"client_tenure_month\", \"client_age\"], how = \"all\" )\n",
    "df_client_experiment.shape"
   ]
  },
  {
   "cell_type": "code",
   "execution_count": null,
   "metadata": {},
   "outputs": [],
   "source": [
    "# df_client_experiment.tail()"
   ]
  },
  {
   "cell_type": "code",
   "execution_count": null,
   "metadata": {},
   "outputs": [],
   "source": [
    "# df_client_experiment.isna().sum()"
   ]
  },
  {
   "cell_type": "code",
   "execution_count": null,
   "metadata": {},
   "outputs": [],
   "source": [
    "# df_client_experiment.info()"
   ]
  },
  {
   "cell_type": "code",
   "execution_count": null,
   "metadata": {},
   "outputs": [],
   "source": [
    "df_client_experiment = df_client_experiment.dropna(subset = \"variation\")\n",
    "df_client_experiment.info()"
   ]
  },
  {
   "cell_type": "code",
   "execution_count": null,
   "metadata": {},
   "outputs": [],
   "source": [
    "df_client_experiment[\"client_age\"] = df_client_experiment[\"client_age\"].fillna(df_client_experiment[\"client_age\"].mean())\n",
    "df_client_experiment.isna().sum()"
   ]
  },
  {
   "cell_type": "code",
   "execution_count": null,
   "metadata": {},
   "outputs": [],
   "source": [
    "def clean_gdr(x):\n",
    "    gender = str(x)\n",
    "    if gender == \"X\": \n",
    "        return \"U\"\n",
    "    else:\n",
    "        return x\n",
    "    \n",
    "df_client_experiment[\"gender\"] = df_client_experiment[\"gender\"].fillna(\"U\")\n",
    "# df_client[\"gendr\"] = df_client[\"gendr\"].apply(lambda x:\"U\" if x == \"X\" else x for x in df_client[\"gendr\"])\n",
    "df_client_experiment[\"gender\"] = df_client_experiment[\"gender\"].str.strip().apply(clean_gdr)\n",
    "df_client_experiment[\"gender\"].unique() "
   ]
  },
  {
   "cell_type": "code",
   "execution_count": null,
   "metadata": {},
   "outputs": [],
   "source": [
    "# df_client_experiment.info()"
   ]
  },
  {
   "cell_type": "code",
   "execution_count": null,
   "metadata": {},
   "outputs": [],
   "source": [
    "for col in [\"client_tenure_year\",\"client_tenure_month\", \"client_age\", \"num_accts\",\"calls_6_mnth\", \"logons_6_mnth\"]:\n",
    "    df_client_experiment[col] = df_client_experiment[col].astype(\"int64\")\n",
    "df_client_experiment.info()"
   ]
  },
  {
   "cell_type": "code",
   "execution_count": null,
   "metadata": {},
   "outputs": [],
   "source": [
    "# df_client_experiment"
   ]
  },
  {
   "cell_type": "code",
   "execution_count": 28,
   "metadata": {},
   "outputs": [],
   "source": [
    "df_client_experiment.to_csv(config['data']['clean']['file_demo_experiment_cleaned'],sep=\";\")"
   ]
  },
  {
   "cell_type": "code",
   "execution_count": null,
   "metadata": {},
   "outputs": [],
   "source": []
  }
 ],
 "metadata": {
  "kernelspec": {
   "display_name": "venv",
   "language": "python",
   "name": "venv"
  },
  "language_info": {
   "codemirror_mode": {
    "name": "ipython",
    "version": 3
   },
   "file_extension": ".py",
   "mimetype": "text/x-python",
   "name": "python",
   "nbconvert_exporter": "python",
   "pygments_lexer": "ipython3",
   "version": "3.11.5"
  }
 },
 "nbformat": 4,
 "nbformat_minor": 4
}
