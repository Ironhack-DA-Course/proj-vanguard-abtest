{
 "cells": [
  {
   "cell_type": "code",
   "execution_count": 1,
   "id": "962520c2",
   "metadata": {},
   "outputs": [],
   "source": [
    "import pandas as pd\n"
   ]
  },
  {
   "cell_type": "markdown",
   "id": "6cfc7a87",
   "metadata": {},
   "source": [
    "Reading the files"
   ]
  },
  {
   "cell_type": "code",
   "execution_count": null,
   "id": "0ea7720c",
   "metadata": {},
   "outputs": [],
   "source": [
    "experiment_client=pd.read_csv('../data/raw/df_final_experiment_clients.txt')\n",
    "experiment_client"
   ]
  },
  {
   "cell_type": "code",
   "execution_count": null,
   "id": "a9469b9b",
   "metadata": {},
   "outputs": [],
   "source": [
    "final_demo=pd.read_csv('../data/raw/df_final_demo.txt')\n",
    "final_demo"
   ]
  },
  {
   "cell_type": "code",
   "execution_count": null,
   "id": "037d5dca",
   "metadata": {},
   "outputs": [],
   "source": [
    "web_data_1=pd.read_csv('../data/raw/df_final_web_data_pt_1.txt')\n",
    "web_data_1"
   ]
  },
  {
   "cell_type": "code",
   "execution_count": null,
   "id": "ee01ff0a",
   "metadata": {},
   "outputs": [],
   "source": [
    "web_data_2=pd.read_csv('../data/raw/df_final_web_data_pt_2.txt')\n",
    "web_data_2"
   ]
  },
  {
   "cell_type": "markdown",
   "id": "067cf36e",
   "metadata": {},
   "source": [
    "Concatenating and saving the files"
   ]
  },
  {
   "cell_type": "code",
   "execution_count": 30,
   "id": "9b0135da",
   "metadata": {},
   "outputs": [],
   "source": [
    "final_web_data=pd.concat([web_data_1,web_data_2])\n",
    "final_web_data=pd.merge(final_web_data, experiment_client, on='client_id')\n",
    "final_web_data\n",
    "final_web_data.to_csv('../data/raw/df_final_web_data_concat.csv')"
   ]
  },
  {
   "cell_type": "code",
   "execution_count": null,
   "id": "c4f985ef",
   "metadata": {},
   "outputs": [],
   "source": [
    "final_demo=pd.merge(final_demo,experiment_client, on= 'client_id')\n",
    "final_demo=final_demo.drop('Variation_y',axis=1)\n",
    "final_demo= final_demo.rename(columns={\"Variation_x\":\"variation\"})\n",
    "final_demo.to_csv('../data/raw/df_final_demo_concat.csv')"
   ]
  }
 ],
 "metadata": {
  "kernelspec": {
   "display_name": "Python 3",
   "language": "python",
   "name": "python3"
  },
  "language_info": {
   "codemirror_mode": {
    "name": "ipython",
    "version": 3
   },
   "file_extension": ".py",
   "mimetype": "text/x-python",
   "name": "python",
   "nbconvert_exporter": "python",
   "pygments_lexer": "ipython3",
   "version": "3.13.3"
  }
 },
 "nbformat": 4,
 "nbformat_minor": 5
}
