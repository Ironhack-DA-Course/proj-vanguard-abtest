{
 "cells": [
  {
   "cell_type": "code",
   "execution_count": 1,
   "id": "b930183c-d899-42b2-995e-ca91634df9d5",
   "metadata": {},
   "outputs": [],
   "source": [
    "import pandas as pd\n",
    "import matplotlib.pyplot as plt\n",
    "import seaborn as sns\n",
    "import numpy as np\n",
    "import yaml\n",
    "%matplotlib inline\n",
    "\n",
    "try:\n",
    "    with open(\"../config.yaml\", \"r\") as file:\n",
    "        config = yaml.safe_load(file)\n",
    "except:\n",
    "    print(\"Yaml configuration file not found!\")"
   ]
  },
  {
   "cell_type": "code",
   "execution_count": null,
   "id": "b5a84e1b-30fb-432a-a5f9-e64620b44dff",
   "metadata": {},
   "outputs": [],
   "source": [
    "df_footprint = pd.read_csv(config['data']['clean']['footprint_final_client_experiment_Cleaned'])"
   ]
  },
  {
   "cell_type": "code",
   "execution_count": null,
   "id": "7bf10648-0ad6-4c56-b644-31062798ee26",
   "metadata": {},
   "outputs": [],
   "source": [
    "df_final_demo = pd.read_csv(config['data']['clean']['file_demo_experiment_cleaned'])"
   ]
  },
  {
   "cell_type": "code",
   "execution_count": 2,
   "id": "bc607ebb-b987-442e-a0bb-48f56cf023bd",
   "metadata": {},
   "outputs": [],
   "source": [
    "df_footprints_transformed = pd.read_csv(config['data']['clean']['file_footprints_transformed'])"
   ]
  },
  {
   "cell_type": "code",
   "execution_count": 6,
   "id": "e0e23822-d101-4c8b-9a75-283449708279",
   "metadata": {},
   "outputs": [
    {
     "data": {
      "text/html": [
       "<div>\n",
       "<style scoped>\n",
       "    .dataframe tbody tr th:only-of-type {\n",
       "        vertical-align: middle;\n",
       "    }\n",
       "\n",
       "    .dataframe tbody tr th {\n",
       "        vertical-align: top;\n",
       "    }\n",
       "\n",
       "    .dataframe thead th {\n",
       "        text-align: right;\n",
       "    }\n",
       "</style>\n",
       "<table border=\"1\" class=\"dataframe\">\n",
       "  <thead>\n",
       "    <tr style=\"text-align: right;\">\n",
       "      <th></th>\n",
       "      <th>client_id</th>\n",
       "      <th>visitor_id</th>\n",
       "      <th>visit_id</th>\n",
       "      <th>process_step</th>\n",
       "      <th>date_time</th>\n",
       "      <th>treatment_group</th>\n",
       "      <th>time_diff</th>\n",
       "      <th>time_diff_relative</th>\n",
       "    </tr>\n",
       "  </thead>\n",
       "  <tbody>\n",
       "    <tr>\n",
       "      <th>0</th>\n",
       "      <td>555</td>\n",
       "      <td>402506806_56087378777</td>\n",
       "      <td>637149525_38041617439_716659</td>\n",
       "      <td>start</td>\n",
       "      <td>2017-04-15 12:57:56</td>\n",
       "      <td>Test</td>\n",
       "      <td>0 days 00:00:00</td>\n",
       "      <td>0 days 00:00:00</td>\n",
       "    </tr>\n",
       "    <tr>\n",
       "      <th>1</th>\n",
       "      <td>555</td>\n",
       "      <td>402506806_56087378777</td>\n",
       "      <td>637149525_38041617439_716659</td>\n",
       "      <td>step_1</td>\n",
       "      <td>2017-04-15 12:58:03</td>\n",
       "      <td>Test</td>\n",
       "      <td>0 days 00:00:07</td>\n",
       "      <td>0 days 00:00:07</td>\n",
       "    </tr>\n",
       "    <tr>\n",
       "      <th>2</th>\n",
       "      <td>555</td>\n",
       "      <td>402506806_56087378777</td>\n",
       "      <td>637149525_38041617439_716659</td>\n",
       "      <td>step_2</td>\n",
       "      <td>2017-04-15 12:58:35</td>\n",
       "      <td>Test</td>\n",
       "      <td>0 days 00:00:39</td>\n",
       "      <td>0 days 00:00:32</td>\n",
       "    </tr>\n",
       "    <tr>\n",
       "      <th>3</th>\n",
       "      <td>555</td>\n",
       "      <td>402506806_56087378777</td>\n",
       "      <td>637149525_38041617439_716659</td>\n",
       "      <td>step_3</td>\n",
       "      <td>2017-04-15 13:00:14</td>\n",
       "      <td>Test</td>\n",
       "      <td>0 days 00:02:18</td>\n",
       "      <td>0 days 00:01:39</td>\n",
       "    </tr>\n",
       "    <tr>\n",
       "      <th>4</th>\n",
       "      <td>555</td>\n",
       "      <td>402506806_56087378777</td>\n",
       "      <td>637149525_38041617439_716659</td>\n",
       "      <td>confirm</td>\n",
       "      <td>2017-04-15 13:00:34</td>\n",
       "      <td>Test</td>\n",
       "      <td>0 days 00:02:38</td>\n",
       "      <td>0 days 00:00:20</td>\n",
       "    </tr>\n",
       "    <tr>\n",
       "      <th>...</th>\n",
       "      <td>...</td>\n",
       "      <td>...</td>\n",
       "      <td>...</td>\n",
       "      <td>...</td>\n",
       "      <td>...</td>\n",
       "      <td>...</td>\n",
       "      <td>...</td>\n",
       "      <td>...</td>\n",
       "    </tr>\n",
       "    <tr>\n",
       "      <th>305832</th>\n",
       "      <td>9999729</td>\n",
       "      <td>834634258_21862004160</td>\n",
       "      <td>870243567_56915814033_814203</td>\n",
       "      <td>step_2</td>\n",
       "      <td>2017-05-08 16:08:40</td>\n",
       "      <td>Test</td>\n",
       "      <td>0 days 00:00:15</td>\n",
       "      <td>0 days 00:00:10</td>\n",
       "    </tr>\n",
       "    <tr>\n",
       "      <th>305833</th>\n",
       "      <td>9999729</td>\n",
       "      <td>834634258_21862004160</td>\n",
       "      <td>870243567_56915814033_814203</td>\n",
       "      <td>step_3</td>\n",
       "      <td>2017-05-08 16:09:19</td>\n",
       "      <td>Test</td>\n",
       "      <td>0 days 00:00:54</td>\n",
       "      <td>0 days 00:00:39</td>\n",
       "    </tr>\n",
       "    <tr>\n",
       "      <th>305834</th>\n",
       "      <td>9999729</td>\n",
       "      <td>834634258_21862004160</td>\n",
       "      <td>870243567_56915814033_814203</td>\n",
       "      <td>confirm</td>\n",
       "      <td>2017-05-08 16:09:40</td>\n",
       "      <td>Test</td>\n",
       "      <td>0 days 00:01:15</td>\n",
       "      <td>0 days 00:00:21</td>\n",
       "    </tr>\n",
       "    <tr>\n",
       "      <th>305835</th>\n",
       "      <td>9999832</td>\n",
       "      <td>145538019_54444341400</td>\n",
       "      <td>472154369_16714624241_585315</td>\n",
       "      <td>start</td>\n",
       "      <td>2017-05-16 16:46:03</td>\n",
       "      <td>Test</td>\n",
       "      <td>0 days 00:00:00</td>\n",
       "      <td>0 days 00:00:00</td>\n",
       "    </tr>\n",
       "    <tr>\n",
       "      <th>305836</th>\n",
       "      <td>9999832</td>\n",
       "      <td>145538019_54444341400</td>\n",
       "      <td>472154369_16714624241_585315</td>\n",
       "      <td>step_1</td>\n",
       "      <td>2017-05-16 16:46:11</td>\n",
       "      <td>Test</td>\n",
       "      <td>0 days 00:00:08</td>\n",
       "      <td>0 days 00:00:08</td>\n",
       "    </tr>\n",
       "  </tbody>\n",
       "</table>\n",
       "<p>305837 rows × 8 columns</p>\n",
       "</div>"
      ],
      "text/plain": [
       "        client_id             visitor_id                      visit_id  \\\n",
       "0             555  402506806_56087378777  637149525_38041617439_716659   \n",
       "1             555  402506806_56087378777  637149525_38041617439_716659   \n",
       "2             555  402506806_56087378777  637149525_38041617439_716659   \n",
       "3             555  402506806_56087378777  637149525_38041617439_716659   \n",
       "4             555  402506806_56087378777  637149525_38041617439_716659   \n",
       "...           ...                    ...                           ...   \n",
       "305832    9999729  834634258_21862004160  870243567_56915814033_814203   \n",
       "305833    9999729  834634258_21862004160  870243567_56915814033_814203   \n",
       "305834    9999729  834634258_21862004160  870243567_56915814033_814203   \n",
       "305835    9999832  145538019_54444341400  472154369_16714624241_585315   \n",
       "305836    9999832  145538019_54444341400  472154369_16714624241_585315   \n",
       "\n",
       "       process_step            date_time treatment_group        time_diff  \\\n",
       "0             start  2017-04-15 12:57:56            Test  0 days 00:00:00   \n",
       "1            step_1  2017-04-15 12:58:03            Test  0 days 00:00:07   \n",
       "2            step_2  2017-04-15 12:58:35            Test  0 days 00:00:39   \n",
       "3            step_3  2017-04-15 13:00:14            Test  0 days 00:02:18   \n",
       "4           confirm  2017-04-15 13:00:34            Test  0 days 00:02:38   \n",
       "...             ...                  ...             ...              ...   \n",
       "305832       step_2  2017-05-08 16:08:40            Test  0 days 00:00:15   \n",
       "305833       step_3  2017-05-08 16:09:19            Test  0 days 00:00:54   \n",
       "305834      confirm  2017-05-08 16:09:40            Test  0 days 00:01:15   \n",
       "305835        start  2017-05-16 16:46:03            Test  0 days 00:00:00   \n",
       "305836       step_1  2017-05-16 16:46:11            Test  0 days 00:00:08   \n",
       "\n",
       "       time_diff_relative  \n",
       "0         0 days 00:00:00  \n",
       "1         0 days 00:00:07  \n",
       "2         0 days 00:00:32  \n",
       "3         0 days 00:01:39  \n",
       "4         0 days 00:00:20  \n",
       "...                   ...  \n",
       "305832    0 days 00:00:10  \n",
       "305833    0 days 00:00:39  \n",
       "305834    0 days 00:00:21  \n",
       "305835    0 days 00:00:00  \n",
       "305836    0 days 00:00:08  \n",
       "\n",
       "[305837 rows x 8 columns]"
      ]
     },
     "execution_count": 6,
     "metadata": {},
     "output_type": "execute_result"
    }
   ],
   "source": [
    "df_footprints_transformed"
   ]
  },
  {
   "cell_type": "code",
   "execution_count": null,
   "id": "c5b84e0f-3d31-467c-baf6-30d84fc5d1df",
   "metadata": {},
   "outputs": [],
   "source": []
  },
  {
   "cell_type": "code",
   "execution_count": null,
   "id": "060a433b-ab14-41d6-9db9-666d3d48c83f",
   "metadata": {},
   "outputs": [],
   "source": [
    "#df.to_csv(\"plath_to_destination_file\", index=False)"
   ]
  },
  {
   "cell_type": "code",
   "execution_count": null,
   "id": "5e9baa9d-8a44-427a-8dbf-07b289fe37bf",
   "metadata": {},
   "outputs": [],
   "source": [
    "df_final_experiment = pd.read_csv(config['data']['raw']['file_experiment_clients'])"
   ]
  },
  {
   "cell_type": "code",
   "execution_count": null,
   "id": "906d9da2-24f3-4913-bf18-aa871e367306",
   "metadata": {},
   "outputs": [],
   "source": [
    "df_footprints = pd.read_csv(config['data']['raw']['file_footprints'])\n",
    "df_footprints = df_footprints.drop(columns=['Unnamed: 0'])\n",
    "\n",
    "df_footprints"
   ]
  },
  {
   "cell_type": "code",
   "execution_count": null,
   "id": "754f788e-27d6-49b8-bd7d-b89170ef982c",
   "metadata": {},
   "outputs": [],
   "source": [
    "df_footprints.columns\n"
   ]
  },
  {
   "cell_type": "code",
   "execution_count": null,
   "id": "1f9ae54a-2aef-4592-bca7-068b04efddf3",
   "metadata": {},
   "outputs": [],
   "source": [
    "df_footprints.isnull().sum()"
   ]
  },
  {
   "cell_type": "code",
   "execution_count": null,
   "id": "1cfef64d-97d2-46b8-8416-c7b61fc092a6",
   "metadata": {},
   "outputs": [],
   "source": [
    "total_duplicates = df_footprints.duplicated().sum()\n",
    "print(total_duplicates)"
   ]
  },
  {
   "cell_type": "code",
   "execution_count": null,
   "id": "76153fc7-bc55-4bf4-9173-dedbc220f7ef",
   "metadata": {},
   "outputs": [],
   "source": [
    "df_footprints[df_footprints.duplicated()].sort_values(by=\"client_id\")\n"
   ]
  },
  {
   "cell_type": "code",
   "execution_count": null,
   "id": "c7f45b1b-699e-49d2-ad68-58fa7ef09659",
   "metadata": {},
   "outputs": [],
   "source": [
    "df_footprints.shape"
   ]
  },
  {
   "cell_type": "code",
   "execution_count": null,
   "id": "9104e62b-23c5-4292-8c9c-1bd2bb84380e",
   "metadata": {},
   "outputs": [],
   "source": [
    "df_footprints[df_footprints[\"client_id\"] == 1531]"
   ]
  },
  {
   "cell_type": "code",
   "execution_count": null,
   "id": "4872ee13-d8ac-4bbf-a740-7fbf279a240c",
   "metadata": {},
   "outputs": [],
   "source": [
    "# join with final_experiment"
   ]
  },
  {
   "cell_type": "code",
   "execution_count": null,
   "id": "1b710f55-8ce2-43e5-8e6c-01467268273d",
   "metadata": {},
   "outputs": [],
   "source": [
    "df_footprints.info()"
   ]
  },
  {
   "cell_type": "code",
   "execution_count": null,
   "id": "ec893b9e-2d62-4e32-8444-5e173eae7e44",
   "metadata": {},
   "outputs": [],
   "source": [
    "df_footprints[\"date_time\"] = pd.to_datetime(df_footprints[\"date_time\"])"
   ]
  },
  {
   "cell_type": "code",
   "execution_count": null,
   "id": "7ad5a3ec-5e7e-4038-8cae-3b4d0fc46077",
   "metadata": {},
   "outputs": [],
   "source": [
    "df_footprints[\"date_time\"]"
   ]
  },
  {
   "cell_type": "markdown",
   "id": "b1ee4921-306d-48b6-a89a-7116af8c3b7f",
   "metadata": {},
   "source": [
    "# Cleaning steps done: \n",
    "## Data Types\n",
    " Change data type for the column date_time from object to datetime\n",
    "## Duplicates \n",
    "there is 10764 to discuss \n",
    "## Column names are correct "
   ]
  },
  {
   "cell_type": "code",
   "execution_count": null,
   "id": "0cd035dc-966c-4d60-af3c-4b798b5e87ea",
   "metadata": {},
   "outputs": [],
   "source": [
    "df_final_experiment"
   ]
  },
  {
   "cell_type": "code",
   "execution_count": null,
   "id": "fa56eac0-a3f1-4333-9b72-c79f16ddf9b6",
   "metadata": {},
   "outputs": [],
   "source": [
    "df_footprints_cleaned = df_footprints.drop_duplicates()"
   ]
  },
  {
   "cell_type": "code",
   "execution_count": null,
   "id": "db1091ff-ac43-4daa-85c8-5f943db53d67",
   "metadata": {},
   "outputs": [],
   "source": [
    "df_footprints_cleaned[df_footprints_cleaned[\"client_id\"] == 1531]"
   ]
  },
  {
   "cell_type": "code",
   "execution_count": null,
   "id": "793e0c7e-03bf-4d0b-9fa1-a6789efc4057",
   "metadata": {},
   "outputs": [],
   "source": [
    "# df_footprints_cleaned \n",
    "df_final_experiment"
   ]
  },
  {
   "cell_type": "code",
   "execution_count": null,
   "id": "71fc4194-45e8-45e2-95b1-933cc084117a",
   "metadata": {},
   "outputs": [],
   "source": [
    "df_final = df_footprints_cleaned.merge(df_final_experiment, how='left', on='client_id')\n"
   ]
  },
  {
   "cell_type": "code",
   "execution_count": null,
   "id": "0a640ae5-91dc-4444-a676-994af5c8fc2c",
   "metadata": {},
   "outputs": [],
   "source": [
    "df_final"
   ]
  },
  {
   "cell_type": "code",
   "execution_count": null,
   "id": "8b4f6229-2e13-4422-8c20-1f4c8733e6b8",
   "metadata": {},
   "outputs": [],
   "source": [
    "df_final[\"Variation\"].unique()"
   ]
  },
  {
   "cell_type": "code",
   "execution_count": null,
   "id": "ce087594-8f81-4f4f-847b-964c926924b9",
   "metadata": {},
   "outputs": [],
   "source": [
    "df_final_v1 = df_final.dropna(subset=['Variation'])\n"
   ]
  },
  {
   "cell_type": "code",
   "execution_count": null,
   "id": "16758986-a872-4576-864b-b894e10db49c",
   "metadata": {},
   "outputs": [],
   "source": [
    "df_final_v1.shape"
   ]
  },
  {
   "cell_type": "code",
   "execution_count": null,
   "id": "a701764c-a5d3-43a7-8772-f4fcae7a9af7",
   "metadata": {},
   "outputs": [],
   "source": [
    "df_final_v1.columns"
   ]
  },
  {
   "cell_type": "code",
   "execution_count": null,
   "id": "d895265f-6e35-4c53-9adb-ebff1455dbf3",
   "metadata": {},
   "outputs": [],
   "source": [
    "df_final_v2 = df_final_v1.rename(columns={\n",
    "    'Variation': 'treatment_group'\n",
    "})"
   ]
  },
  {
   "cell_type": "code",
   "execution_count": null,
   "id": "85e5244b-8e98-40e4-84d6-112fee288d05",
   "metadata": {},
   "outputs": [],
   "source": [
    "df_final_v2.to_csv(config['data']['clean']['footprint_final_client_experiment_Cleaned'], index=False, sep=',')\n"
   ]
  },
  {
   "cell_type": "code",
   "execution_count": null,
   "id": "d1788780-8a8e-44ad-8f2f-d8a6b2fde687",
   "metadata": {},
   "outputs": [],
   "source": [
    "df_footprint[df_footprint['process_step'] == 'confirm']\n"
   ]
  },
  {
   "cell_type": "code",
   "execution_count": null,
   "id": "b162fd08-b70c-4599-bb2f-d6aaca8ea016",
   "metadata": {},
   "outputs": [],
   "source": [
    "df_final_demo[df_final_demo['client_age'] == 36]"
   ]
  },
  {
   "cell_type": "code",
   "execution_count": null,
   "id": "e9cd4d08-6191-4e15-9742-0acb4dd1490e",
   "metadata": {},
   "outputs": [],
   "source": []
  }
 ],
 "metadata": {
  "kernelspec": {
   "display_name": "venv",
   "language": "python",
   "name": "venv"
  },
  "language_info": {
   "codemirror_mode": {
    "name": "ipython",
    "version": 3
   },
   "file_extension": ".py",
   "mimetype": "text/x-python",
   "name": "python",
   "nbconvert_exporter": "python",
   "pygments_lexer": "ipython3",
   "version": "3.11.5"
  }
 },
 "nbformat": 4,
 "nbformat_minor": 5
}
