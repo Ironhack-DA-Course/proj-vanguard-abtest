{
 "cells": [
  {
   "cell_type": "code",
   "execution_count": 1,
   "id": "21b6fee7",
   "metadata": {},
   "outputs": [],
   "source": [
    "import pandas as pd\n",
    "import matplotlib.pyplot as plt\n",
    "import seaborn as sns\n",
    "import numpy as np"
   ]
  },
  {
   "cell_type": "code",
   "execution_count": 2,
   "id": "6caf7290",
   "metadata": {},
   "outputs": [],
   "source": [
    "file1=pd.read_csv('../Data/clean/final_client_experiment_Cleaned.csv')\n",
    "file2=pd.read_csv('../Data/clean/df_final_demo_concat_cleaned.csv')"
   ]
  },
  {
   "cell_type": "markdown",
   "id": "bc08db70",
   "metadata": {},
   "source": [
    "Filtering to get only the clients who finished all steps"
   ]
  },
  {
   "cell_type": "code",
   "execution_count": 3,
   "id": "e5e845d5",
   "metadata": {},
   "outputs": [],
   "source": [
    "Test=file1[file1['process_step']== \"confirm\"]['client_id'].unique()\n",
    "clients_all_steps=file1[file1['client_id'].isin(Test)]"
   ]
  },
  {
   "cell_type": "markdown",
   "id": "1eb00dff",
   "metadata": {},
   "source": [
    "Filtering to get the ages specified in the hypotesis"
   ]
  },
  {
   "cell_type": "code",
   "execution_count": 4,
   "id": "c5b62830",
   "metadata": {},
   "outputs": [],
   "source": [
    "clients_with_age=file2[['client_id','client_age']]\n",
    "\n",
    "final_data_clients=pd.merge(clients_all_steps,clients_with_age,on='client_id', how = \"left\")"
   ]
  },
  {
   "cell_type": "code",
   "execution_count": 5,
   "id": "10052d38",
   "metadata": {},
   "outputs": [
    {
     "data": {
      "text/plain": [
       "Index(['client_id', 'visitor_id', 'visit_id', 'process_step', 'date_time',\n",
       "       'treatment_group', 'client_age'],\n",
       "      dtype='object')"
      ]
     },
     "execution_count": 5,
     "metadata": {},
     "output_type": "execute_result"
    }
   ],
   "source": [
    "final_data_clients.columns"
   ]
  },
  {
   "cell_type": "code",
   "execution_count": 6,
   "id": "1b9a30fb",
   "metadata": {},
   "outputs": [
    {
     "data": {
      "text/plain": [
       "array([8191345, 5144725, 7616759, 5277910,  355337, 1227228, 1037867,\n",
       "       8611797, 7402828, 4876926])"
      ]
     },
     "execution_count": 6,
     "metadata": {},
     "output_type": "execute_result"
    }
   ],
   "source": [
    "final_data_clients[final_data_clients['client_age'].isnull()]['client_id'].unique()"
   ]
  },
  {
   "cell_type": "markdown",
   "id": "b5764c41",
   "metadata": {},
   "source": [
    "Adding the age to the missing clients with no age. equally divided between both groups"
   ]
  },
  {
   "cell_type": "code",
   "execution_count": 15,
   "id": "4a43aad4",
   "metadata": {},
   "outputs": [],
   "source": [
    "ids_no_age=pd.DataFrame(final_data_clients[final_data_clients['client_age'].isnull()]['client_id'].unique(), columns=['client_id'])\n",
    "new_age={8191345: 34, 5144725: 34, 7616759:34, 5277910:34, 355337: 34, 1227228: 54, 1037867: 54, 8611797: 54, 7402828: 54,4876926:54}\n",
    "ids_only=[8191345,5144725,7616759,5277910,355337,1227228,1037867,8611797,7402828,4876926]\n",
    "mask = final_data_clients['client_id'].isin(ids_only)\n",
    "final_data_clients.loc[mask,'client_age']=final_data_clients['client_id'].map(new_age)"
   ]
  },
  {
   "cell_type": "code",
   "execution_count": 17,
   "id": "211e2fec",
   "metadata": {},
   "outputs": [],
   "source": [
    "final_data_clients.to_csv(\"../data/clean/Final_file.csv\", index=False, encoding='utf-8')"
   ]
  },
  {
   "cell_type": "code",
   "execution_count": 20,
   "id": "441386ca",
   "metadata": {},
   "outputs": [
    {
     "data": {
      "text/plain": [
       "Index(['client_id', 'visitor_id', 'visit_id', 'process_step', 'date_time',\n",
       "       'treatment_group', 'client_age'],\n",
       "      dtype='object')"
      ]
     },
     "execution_count": 20,
     "metadata": {},
     "output_type": "execute_result"
    }
   ],
   "source": [
    "final_data_clients.columns"
   ]
  }
 ],
 "metadata": {
  "kernelspec": {
   "display_name": "Python 3",
   "language": "python",
   "name": "python3"
  },
  "language_info": {
   "codemirror_mode": {
    "name": "ipython",
    "version": 3
   },
   "file_extension": ".py",
   "mimetype": "text/x-python",
   "name": "python",
   "nbconvert_exporter": "python",
   "pygments_lexer": "ipython3",
   "version": "3.13.3"
  }
 },
 "nbformat": 4,
 "nbformat_minor": 5
}
